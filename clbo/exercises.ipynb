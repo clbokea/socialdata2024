{
 "cells": [
  {
   "cell_type": "markdown",
   "id": "470c64d2-d025-4464-8c33-a23c3d57274d",
   "metadata": {
    "jp-MarkdownHeadingCollapsed": true
   },
   "source": [
    "# Exercises week 1"
   ]
  },
  {
   "cell_type": "markdown",
   "id": "df2b99ed-1bf2-41cb-9811-7926ae6a772e",
   "metadata": {},
   "source": [
    "## Exercise 1"
   ]
  },
  {
   "cell_type": "code",
   "execution_count": 8,
   "id": "3cadd46c",
   "metadata": {},
   "outputs": [],
   "source": [
    "#%pip install numpy pandas Pyarrow"
   ]
  },
  {
   "cell_type": "code",
   "execution_count": 9,
   "id": "d394c3c9-e3e7-4932-9cd4-941cbd82d51e",
   "metadata": {},
   "outputs": [],
   "source": [
    "import numpy as np\n",
    "import pandas as pd"
   ]
  },
  {
   "cell_type": "code",
   "execution_count": 10,
   "id": "ced4df8d-61c6-4b7e-9a16-f0751bb2b901",
   "metadata": {},
   "outputs": [],
   "source": [
    "data = pd.read_csv(\"Police_Department_Incident_Reports__Historical_2003_to_May_2018_20240129.csv\")"
   ]
  },
  {
   "cell_type": "code",
   "execution_count": 11,
   "id": "5f8699df-21ca-42e2-9646-f5c4df43e8a4",
   "metadata": {},
   "outputs": [
    {
     "data": {
      "text/html": [
       "<div>\n",
       "<style scoped>\n",
       "    .dataframe tbody tr th:only-of-type {\n",
       "        vertical-align: middle;\n",
       "    }\n",
       "\n",
       "    .dataframe tbody tr th {\n",
       "        vertical-align: top;\n",
       "    }\n",
       "\n",
       "    .dataframe thead th {\n",
       "        text-align: right;\n",
       "    }\n",
       "</style>\n",
       "<table border=\"1\" class=\"dataframe\">\n",
       "  <thead>\n",
       "    <tr style=\"text-align: right;\">\n",
       "      <th></th>\n",
       "      <th>PdId</th>\n",
       "      <th>IncidntNum</th>\n",
       "      <th>Incident Code</th>\n",
       "      <th>Category</th>\n",
       "      <th>Descript</th>\n",
       "      <th>DayOfWeek</th>\n",
       "      <th>Date</th>\n",
       "      <th>Time</th>\n",
       "      <th>PdDistrict</th>\n",
       "      <th>Resolution</th>\n",
       "      <th>...</th>\n",
       "      <th>Fix It Zones as of 2017-11-06  2 2</th>\n",
       "      <th>DELETE - HSOC Zones 2 2</th>\n",
       "      <th>Fix It Zones as of 2018-02-07 2 2</th>\n",
       "      <th>CBD, BID and GBD Boundaries as of 2017 2 2</th>\n",
       "      <th>Areas of Vulnerability, 2016 2 2</th>\n",
       "      <th>Central Market/Tenderloin Boundary 2 2</th>\n",
       "      <th>Central Market/Tenderloin Boundary Polygon - Updated 2 2</th>\n",
       "      <th>HSOC Zones as of 2018-06-05 2 2</th>\n",
       "      <th>OWED Public Spaces 2 2</th>\n",
       "      <th>Neighborhoods 2</th>\n",
       "    </tr>\n",
       "  </thead>\n",
       "  <tbody>\n",
       "    <tr>\n",
       "      <th>0</th>\n",
       "      <td>4133422003074</td>\n",
       "      <td>41334220</td>\n",
       "      <td>3074</td>\n",
       "      <td>ROBBERY</td>\n",
       "      <td>ROBBERY, BODILY FORCE</td>\n",
       "      <td>Monday</td>\n",
       "      <td>11/22/2004</td>\n",
       "      <td>17:50</td>\n",
       "      <td>INGLESIDE</td>\n",
       "      <td>NONE</td>\n",
       "      <td>...</td>\n",
       "      <td>NaN</td>\n",
       "      <td>NaN</td>\n",
       "      <td>NaN</td>\n",
       "      <td>NaN</td>\n",
       "      <td>NaN</td>\n",
       "      <td>NaN</td>\n",
       "      <td>NaN</td>\n",
       "      <td>NaN</td>\n",
       "      <td>NaN</td>\n",
       "      <td>NaN</td>\n",
       "    </tr>\n",
       "    <tr>\n",
       "      <th>1</th>\n",
       "      <td>5118535807021</td>\n",
       "      <td>51185358</td>\n",
       "      <td>7021</td>\n",
       "      <td>VEHICLE THEFT</td>\n",
       "      <td>STOLEN AUTOMOBILE</td>\n",
       "      <td>Tuesday</td>\n",
       "      <td>10/18/2005</td>\n",
       "      <td>20:00</td>\n",
       "      <td>PARK</td>\n",
       "      <td>NONE</td>\n",
       "      <td>...</td>\n",
       "      <td>NaN</td>\n",
       "      <td>NaN</td>\n",
       "      <td>NaN</td>\n",
       "      <td>NaN</td>\n",
       "      <td>NaN</td>\n",
       "      <td>NaN</td>\n",
       "      <td>NaN</td>\n",
       "      <td>NaN</td>\n",
       "      <td>NaN</td>\n",
       "      <td>NaN</td>\n",
       "    </tr>\n",
       "    <tr>\n",
       "      <th>2</th>\n",
       "      <td>4018830907021</td>\n",
       "      <td>40188309</td>\n",
       "      <td>7021</td>\n",
       "      <td>VEHICLE THEFT</td>\n",
       "      <td>STOLEN AUTOMOBILE</td>\n",
       "      <td>Sunday</td>\n",
       "      <td>02/15/2004</td>\n",
       "      <td>02:00</td>\n",
       "      <td>SOUTHERN</td>\n",
       "      <td>NONE</td>\n",
       "      <td>...</td>\n",
       "      <td>NaN</td>\n",
       "      <td>NaN</td>\n",
       "      <td>NaN</td>\n",
       "      <td>NaN</td>\n",
       "      <td>NaN</td>\n",
       "      <td>NaN</td>\n",
       "      <td>NaN</td>\n",
       "      <td>NaN</td>\n",
       "      <td>NaN</td>\n",
       "      <td>NaN</td>\n",
       "    </tr>\n",
       "    <tr>\n",
       "      <th>3</th>\n",
       "      <td>11014543126030</td>\n",
       "      <td>110145431</td>\n",
       "      <td>26030</td>\n",
       "      <td>ARSON</td>\n",
       "      <td>ARSON</td>\n",
       "      <td>Friday</td>\n",
       "      <td>02/18/2011</td>\n",
       "      <td>05:27</td>\n",
       "      <td>INGLESIDE</td>\n",
       "      <td>NONE</td>\n",
       "      <td>...</td>\n",
       "      <td>NaN</td>\n",
       "      <td>NaN</td>\n",
       "      <td>NaN</td>\n",
       "      <td>NaN</td>\n",
       "      <td>1.0</td>\n",
       "      <td>NaN</td>\n",
       "      <td>NaN</td>\n",
       "      <td>NaN</td>\n",
       "      <td>NaN</td>\n",
       "      <td>94.0</td>\n",
       "    </tr>\n",
       "    <tr>\n",
       "      <th>4</th>\n",
       "      <td>10108108004134</td>\n",
       "      <td>101081080</td>\n",
       "      <td>4134</td>\n",
       "      <td>ASSAULT</td>\n",
       "      <td>BATTERY</td>\n",
       "      <td>Sunday</td>\n",
       "      <td>11/21/2010</td>\n",
       "      <td>17:00</td>\n",
       "      <td>SOUTHERN</td>\n",
       "      <td>NONE</td>\n",
       "      <td>...</td>\n",
       "      <td>NaN</td>\n",
       "      <td>NaN</td>\n",
       "      <td>NaN</td>\n",
       "      <td>NaN</td>\n",
       "      <td>2.0</td>\n",
       "      <td>NaN</td>\n",
       "      <td>NaN</td>\n",
       "      <td>NaN</td>\n",
       "      <td>NaN</td>\n",
       "      <td>32.0</td>\n",
       "    </tr>\n",
       "  </tbody>\n",
       "</table>\n",
       "<p>5 rows × 35 columns</p>\n",
       "</div>"
      ],
      "text/plain": [
       "             PdId  IncidntNum  Incident Code       Category  \\\n",
       "0   4133422003074    41334220           3074        ROBBERY   \n",
       "1   5118535807021    51185358           7021  VEHICLE THEFT   \n",
       "2   4018830907021    40188309           7021  VEHICLE THEFT   \n",
       "3  11014543126030   110145431          26030          ARSON   \n",
       "4  10108108004134   101081080           4134        ASSAULT   \n",
       "\n",
       "                Descript DayOfWeek        Date   Time PdDistrict Resolution  \\\n",
       "0  ROBBERY, BODILY FORCE    Monday  11/22/2004  17:50  INGLESIDE       NONE   \n",
       "1      STOLEN AUTOMOBILE   Tuesday  10/18/2005  20:00       PARK       NONE   \n",
       "2      STOLEN AUTOMOBILE    Sunday  02/15/2004  02:00   SOUTHERN       NONE   \n",
       "3                  ARSON    Friday  02/18/2011  05:27  INGLESIDE       NONE   \n",
       "4                BATTERY    Sunday  11/21/2010  17:00   SOUTHERN       NONE   \n",
       "\n",
       "   ... Fix It Zones as of 2017-11-06  2 2  DELETE - HSOC Zones 2 2  \\\n",
       "0  ...                                NaN                      NaN   \n",
       "1  ...                                NaN                      NaN   \n",
       "2  ...                                NaN                      NaN   \n",
       "3  ...                                NaN                      NaN   \n",
       "4  ...                                NaN                      NaN   \n",
       "\n",
       "   Fix It Zones as of 2018-02-07 2 2  \\\n",
       "0                                NaN   \n",
       "1                                NaN   \n",
       "2                                NaN   \n",
       "3                                NaN   \n",
       "4                                NaN   \n",
       "\n",
       "  CBD, BID and GBD Boundaries as of 2017 2 2  \\\n",
       "0                                        NaN   \n",
       "1                                        NaN   \n",
       "2                                        NaN   \n",
       "3                                        NaN   \n",
       "4                                        NaN   \n",
       "\n",
       "   Areas of Vulnerability, 2016 2 2  Central Market/Tenderloin Boundary 2 2  \\\n",
       "0                               NaN                                     NaN   \n",
       "1                               NaN                                     NaN   \n",
       "2                               NaN                                     NaN   \n",
       "3                               1.0                                     NaN   \n",
       "4                               2.0                                     NaN   \n",
       "\n",
       "   Central Market/Tenderloin Boundary Polygon - Updated 2 2  \\\n",
       "0                                                NaN          \n",
       "1                                                NaN          \n",
       "2                                                NaN          \n",
       "3                                                NaN          \n",
       "4                                                NaN          \n",
       "\n",
       "   HSOC Zones as of 2018-06-05 2 2  OWED Public Spaces 2 2  Neighborhoods 2  \n",
       "0                              NaN                     NaN              NaN  \n",
       "1                              NaN                     NaN              NaN  \n",
       "2                              NaN                     NaN              NaN  \n",
       "3                              NaN                     NaN             94.0  \n",
       "4                              NaN                     NaN             32.0  \n",
       "\n",
       "[5 rows x 35 columns]"
      ]
     },
     "execution_count": 11,
     "metadata": {},
     "output_type": "execute_result"
    }
   ],
   "source": [
    "data.head()"
   ]
  },
  {
   "cell_type": "markdown",
   "id": "12712f09-d860-499d-9208-7571d663af14",
   "metadata": {},
   "source": [
    "Now generate the following simple statistics:    \n",
    "### 1. Report the total number of crimes in the dataset.    "
   ]
  },
  {
   "cell_type": "code",
   "execution_count": 12,
   "id": "3a2b6eb8-ae97-4002-8a5a-7f3c85457c96",
   "metadata": {},
   "outputs": [
    {
     "name": "stdout",
     "output_type": "stream",
     "text": [
      "Number of crimes in the dataset:  2.129.525\n"
     ]
    }
   ],
   "source": [
    "print(f'Number of crimes in the dataset: {len(data): ,}'.replace(\",\", \".\"))"
   ]
  },
  {
   "cell_type": "markdown",
   "id": "b074dc2c-c27b-440c-ab80-9da069139cd4",
   "metadata": {},
   "source": [
    "### 2. List the various categories of crime.   "
   ]
  },
  {
   "cell_type": "code",
   "execution_count": 13,
   "id": "0ffa93bc-531e-4f19-aebb-3e65862b88ae",
   "metadata": {},
   "outputs": [
    {
     "data": {
      "text/plain": [
       "{'ARSON',\n",
       " 'ASSAULT',\n",
       " 'BAD CHECKS',\n",
       " 'BRIBERY',\n",
       " 'BURGLARY',\n",
       " 'DISORDERLY CONDUCT',\n",
       " 'DRIVING UNDER THE INFLUENCE',\n",
       " 'DRUG/NARCOTIC',\n",
       " 'DRUNKENNESS',\n",
       " 'EMBEZZLEMENT',\n",
       " 'EXTORTION',\n",
       " 'FORGERY/COUNTERFEITING',\n",
       " 'FRAUD',\n",
       " 'GAMBLING',\n",
       " 'KIDNAPPING',\n",
       " 'LARCENY/THEFT',\n",
       " 'LIQUOR LAWS',\n",
       " 'LOITERING',\n",
       " 'MISSING PERSON',\n",
       " 'NON-CRIMINAL',\n",
       " 'OTHER OFFENSES',\n",
       " 'PORNOGRAPHY/OBSCENE MAT',\n",
       " 'PROSTITUTION',\n",
       " 'RECOVERED VEHICLE',\n",
       " 'ROBBERY',\n",
       " 'SECONDARY CODES',\n",
       " 'SEX OFFENSES, FORCIBLE',\n",
       " 'SEX OFFENSES, NON FORCIBLE',\n",
       " 'STOLEN PROPERTY',\n",
       " 'SUICIDE',\n",
       " 'SUSPICIOUS OCC',\n",
       " 'TREA',\n",
       " 'TRESPASS',\n",
       " 'VANDALISM',\n",
       " 'VEHICLE THEFT',\n",
       " 'WARRANTS',\n",
       " 'WEAPON LAWS'}"
      ]
     },
     "execution_count": 13,
     "metadata": {},
     "output_type": "execute_result"
    }
   ],
   "source": [
    "{i for i in data['Category']}"
   ]
  },
  {
   "cell_type": "markdown",
   "id": "de259b9b",
   "metadata": {},
   "source": [
    "### 2.2 How many are there?  "
   ]
  },
  {
   "cell_type": "code",
   "execution_count": 14,
   "id": "70045e54-1973-4606-bb79-6687016ad195",
   "metadata": {},
   "outputs": [
    {
     "data": {
      "text/plain": [
       "array(['ROBBERY', 'VEHICLE THEFT', 'ARSON', 'ASSAULT', 'TRESPASS',\n",
       "       'BURGLARY', 'LARCENY/THEFT', 'WARRANTS', 'OTHER OFFENSES',\n",
       "       'DRUG/NARCOTIC', 'SUSPICIOUS OCC', 'LIQUOR LAWS', 'VANDALISM',\n",
       "       'WEAPON LAWS', 'NON-CRIMINAL', 'MISSING PERSON', 'FRAUD',\n",
       "       'SEX OFFENSES, FORCIBLE', 'SECONDARY CODES', 'DISORDERLY CONDUCT',\n",
       "       'RECOVERED VEHICLE', 'KIDNAPPING', 'FORGERY/COUNTERFEITING',\n",
       "       'PROSTITUTION', 'DRUNKENNESS', 'BAD CHECKS',\n",
       "       'DRIVING UNDER THE INFLUENCE', 'LOITERING', 'STOLEN PROPERTY',\n",
       "       'SUICIDE', 'BRIBERY', 'EXTORTION', 'EMBEZZLEMENT', 'GAMBLING',\n",
       "       'PORNOGRAPHY/OBSCENE MAT', 'SEX OFFENSES, NON FORCIBLE', 'TREA'],\n",
       "      dtype=object)"
      ]
     },
     "execution_count": 14,
     "metadata": {},
     "output_type": "execute_result"
    }
   ],
   "source": [
    "data['Category'].unique()"
   ]
  },
  {
   "cell_type": "code",
   "execution_count": 15,
   "id": "57bc3c7f-aaf1-4fbd-a6fe-0705d24b5f76",
   "metadata": {},
   "outputs": [
    {
     "data": {
      "text/plain": [
       "'Number of unique categories 37'"
      ]
     },
     "execution_count": 15,
     "metadata": {},
     "output_type": "execute_result"
    }
   ],
   "source": [
    "f'Number of unique categories {len(data['Category'].unique())}'"
   ]
  },
  {
   "cell_type": "markdown",
   "id": "730d6234-0629-4ba1-81fb-bb32e7dfed38",
   "metadata": {},
   "source": [
    "### 3. List the number of crimes in each category."
   ]
  },
  {
   "cell_type": "code",
   "execution_count": 16,
   "id": "f8fd5096-acd0-45ad-8698-ffeaa3af677c",
   "metadata": {},
   "outputs": [
    {
     "data": {
      "text/plain": [
       "Category\n",
       "LARCENY/THEFT                  477975\n",
       "OTHER OFFENSES                 301874\n",
       "NON-CRIMINAL                   236928\n",
       "ASSAULT                        167042\n",
       "VEHICLE THEFT                  126228\n",
       "DRUG/NARCOTIC                  117821\n",
       "VANDALISM                      114718\n",
       "WARRANTS                        99821\n",
       "BURGLARY                        91067\n",
       "SUSPICIOUS OCC                  79087\n",
       "ROBBERY                         54467\n",
       "MISSING PERSON                  44268\n",
       "FRAUD                           41348\n",
       "FORGERY/COUNTERFEITING          22995\n",
       "SECONDARY CODES                 22378\n",
       "WEAPON LAWS                     21004\n",
       "TRESPASS                        19194\n",
       "PROSTITUTION                    16501\n",
       "STOLEN PROPERTY                 11450\n",
       "DISORDERLY CONDUCT               9932\n",
       "DRUNKENNESS                      9760\n",
       "SEX OFFENSES, FORCIBLE           8747\n",
       "RECOVERED VEHICLE                8688\n",
       "DRIVING UNDER THE INFLUENCE      5652\n",
       "KIDNAPPING                       4282\n",
       "ARSON                            3875\n",
       "EMBEZZLEMENT                     2984\n",
       "LIQUOR LAWS                      2840\n",
       "LOITERING                        2402\n",
       "SUICIDE                          1291\n",
       "BAD CHECKS                        924\n",
       "BRIBERY                           796\n",
       "EXTORTION                         729\n",
       "GAMBLING                          343\n",
       "PORNOGRAPHY/OBSCENE MAT            57\n",
       "SEX OFFENSES, NON FORCIBLE         43\n",
       "TREA                               14\n",
       "Name: count, dtype: int64"
      ]
     },
     "execution_count": 16,
     "metadata": {},
     "output_type": "execute_result"
    }
   ],
   "source": [
    "data['Category'].value_counts()"
   ]
  },
  {
   "cell_type": "markdown",
   "id": "560229d7-861a-410c-86ef-f4e99531ca1c",
   "metadata": {
    "jp-MarkdownHeadingCollapsed": true
   },
   "source": [
    "# Exercise 2: The types of crimes. \n",
    "The first field we'll dig into is the column \"Category\".    \n",
    "We have already counted the number of crimes in each category."
   ]
  },
  {
   "cell_type": "markdown",
   "id": "2cf1204d-b76f-44b0-90ff-385dc5405620",
   "metadata": {},
   "source": [
    "### 1. What is the most commonly occurring category of crime?"
   ]
  },
  {
   "cell_type": "code",
   "execution_count": 17,
   "id": "29ade2cb-f368-48ca-a61f-bca9b21d214b",
   "metadata": {},
   "outputs": [
    {
     "name": "stdout",
     "output_type": "stream",
     "text": [
      "most commonly occuring Category\n",
      "LARCENY/THEFT    477975\n",
      "Name: count, dtype: int64\n"
     ]
    }
   ],
   "source": [
    "print(f'most commonly occuring {data['Category'].value_counts().head(1)}')"
   ]
  },
  {
   "cell_type": "markdown",
   "id": "b16b70e2",
   "metadata": {},
   "source": [
    "### 1.2  What is the least frequently occurring?"
   ]
  },
  {
   "cell_type": "code",
   "execution_count": 18,
   "id": "c6869de7-5caf-4e19-a31d-66263de20197",
   "metadata": {},
   "outputs": [
    {
     "name": "stdout",
     "output_type": "stream",
     "text": [
      "least frequently occurring Category\n",
      "TREA    14\n",
      "Name: count, dtype: int64\n"
     ]
    }
   ],
   "source": [
    "print(f'least frequently occurring {data['Category'].value_counts().tail(1)}')"
   ]
  },
  {
   "cell_type": "markdown",
   "id": "aafe52a1-5384-4f7b-b24c-73a79e6c3a43",
   "metadata": {},
   "source": [
    "### 2. Create a bar-plot over crime occurrences. "
   ]
  },
  {
   "cell_type": "markdown",
   "id": "a36e9598-5761-4a29-b585-844f1507ff6d",
   "metadata": {},
   "source": [
    "This is a data visualization class, so here is the first essential lesson:    \n",
    "For a plot to be informative you need to label the axes (The police chief will be furious if you forget).     \n",
    "It can also be nice to other relevant pieces of info, title, labels, etc.).    \n",
    "Mine looks like this (but yours doesn't have to look exactly like mine - the important thing is that you clearly communicate the information in the dataset)."
   ]
  },
  {
   "cell_type": "code",
   "execution_count": 19,
   "id": "c2e31efc-ceb6-46f2-a75b-d25b5a6100f1",
   "metadata": {},
   "outputs": [],
   "source": [
    "#%pip install matplotlib\n",
    "#%pip install seaborn"
   ]
  },
  {
   "cell_type": "code",
   "execution_count": 20,
   "id": "f815280b-156e-4308-985e-b9e3b2eb4b2f",
   "metadata": {},
   "outputs": [],
   "source": [
    "import matplotlib.pyplot as plt\n",
    "import seaborn as sns\n",
    "sns.set()"
   ]
  },
  {
   "cell_type": "code",
   "execution_count": 21,
   "id": "55854d61-198d-4bb8-9e60-b68cc4f86cfb",
   "metadata": {},
   "outputs": [
    {
     "data": {
      "text/plain": [
       "Text(0, 0.5, 'Occurrences')"
      ]
     },
     "execution_count": 21,
     "metadata": {},
     "output_type": "execute_result"
    },
    {
     "data": {
      "image/png": "[encoded data removed]",
      "text/plain": [
       "<Figure size 640x480 with 1 Axes>"
      ]
     },
     "metadata": {},
     "output_type": "display_data"
    }
   ],
   "source": [
    "plt.xlabel('Category')\n",
    "plt.ylabel('Occurrences')"
   ]
  },
  {
   "cell_type": "code",
   "execution_count": 22,
   "id": "2a74702d-5b47-41e3-b19f-f1f565fd7a8c",
   "metadata": {},
   "outputs": [
    {
     "data": {
      "text/plain": [
       "Text(0.5, 1.0, 'Crime occurrencies by category')"
      ]
     },
     "execution_count": 22,
     "metadata": {},
     "output_type": "execute_result"
    },
    {
     "data": {
      "image/png": "[encoded data removed]",
      "text/plain": [
       "<Figure size 640x480 with 1 Axes>"
      ]
     },
     "metadata": {},
     "output_type": "display_data"
    }
   ],
   "source": [
    "plt.title('Crime occurrencies by category')"
   ]
  },
  {
   "cell_type": "code",
   "execution_count": 27,
   "id": "32d7d539-428d-4c9b-8984-0268fa427f5b",
   "metadata": {},
   "outputs": [
    {
     "data": {
      "image/png": "[encoded data removed]",
      "text/plain": [
       "<Figure size 1000x500 with 1 Axes>"
      ]
     },
     "metadata": {},
     "output_type": "display_data"
    }
   ],
   "source": [
    "plt.bar(data['Category'].unique(), data['Category'].value_counts(), color='green')\n",
    "plt.title('Crime occurrencies by category', size=10)\n",
    "plt.xticks(rotation=90, size=8)\n",
    "plt.yticks(size=8)\n",
    "plt.xlabel('Category')\n",
    "plt.ylabel('Occurrences')\n",
    "plt.rcParams['figure.figsize'] = (20, 5)\n",
    "plt.show()"
   ]
  },
  {
   "cell_type": "markdown",
   "id": "784511db-f265-4685-bbec-924ba5a009c6",
   "metadata": {},
   "source": [
    "# Exercise 3: Temporal patterns."
   ]
  },
  {
   "cell_type": "markdown",
   "id": "7aadc9c0-8369-493f-964f-2aa87372e616",
   "metadata": {},
   "source": [
    "To start off easily, let's count the number of crimes per year:"
   ]
  },
  {
   "cell_type": "markdown",
   "id": "bc40aaa0",
   "metadata": {},
   "source": [
    "### 1. What is the year with most crimes?"
   ]
  },
  {
   "cell_type": "code",
   "execution_count": 24,
   "id": "b70701ed-b544-465a-86cb-f6822033cd9d",
   "metadata": {},
   "outputs": [
    {
     "name": "stdout",
     "output_type": "stream",
     "text": [
      "The year with the most crimes is: 2015 (151459)\n"
     ]
    }
   ],
   "source": [
    "data['date'] = pd.to_datetime(data['Date'])\n",
    "data['year'] = data['date'].dt.year\n",
    "print(f'The year with the most crimes is: {data[\"year\"].value_counts().head(1).index[0]} ({data[\"year\"].value_counts().head(1).values[0]})')"
   ]
  },
  {
   "cell_type": "markdown",
   "id": "2deb5b3a-e88b-45e0-84a8-6cc011c7c42b",
   "metadata": {},
   "source": [
    "### 2. What is the year with the fewest crimes?     \n",
    "(hint if your result is 2018, go back and see what I wrote about the date range up in exercise 1)."
   ]
  },
  {
   "cell_type": "code",
   "execution_count": 25,
   "id": "62814bc8-6b31-4d56-bfdf-718a4d637c8a",
   "metadata": {},
   "outputs": [
    {
     "name": "stdout",
     "output_type": "stream",
     "text": [
      "The year with the least crimes is: 2011 (126713)\n"
     ]
    }
   ],
   "source": [
    "print(f'The year with the least crimes is: {data[\"year\"].value_counts().tail(2).index[0]} ({data[\"year\"].value_counts().tail(2).values[0]})')"
   ]
  },
  {
   "cell_type": "markdown",
   "id": "49430b40",
   "metadata": {},
   "source": [
    "Test"
   ]
  },
  {
   "cell_type": "code",
   "execution_count": 37,
   "id": "9fd3a140",
   "metadata": {},
   "outputs": [
    {
     "data": {
      "text/plain": [
       "year\n",
       "2015    151459\n",
       "2017    149487\n",
       "2013    147664\n",
       "2016    145994\n",
       "2014    144844\n",
       "2003    142803\n",
       "2004    142054\n",
       "2005    137048\n",
       "2012    135464\n",
       "2008    135242\n",
       "2009    134309\n",
       "2006    131856\n",
       "2007    131771\n",
       "2010    127758\n",
       "2011    126713\n",
       "2018     45059\n",
       "Name: count, dtype: int64"
      ]
     },
     "execution_count": 37,
     "metadata": {},
     "output_type": "execute_result"
    }
   ],
   "source": [
    "data[\"year\"].value_counts()"
   ]
  },
  {
   "cell_type": "markdown",
   "id": "ad1a0e4f-daa6-4921-a983-aee870ab9859",
   "metadata": {},
   "source": [
    "### 3. Create a barplot of crimes-per-year \n",
    "(years on the $x$-axis, crime-counts on the $y$-axis)."
   ]
  },
  {
   "cell_type": "code",
   "execution_count": 52,
   "id": "5b9c23dd",
   "metadata": {},
   "outputs": [
    {
     "data": {
      "image/png": "[encoded data removed]",
      "text/plain": [
       "<Figure size 1200x500 with 1 Axes>"
      ]
     },
     "metadata": {},
     "output_type": "display_data"
    }
   ],
   "source": [
    "plt.bar(data[\"year\"].value_counts().index, data[\"year\"].value_counts(), color='green')\n",
    "plt.title('Crimes per year', size=10)\n",
    "plt.xticks(rotation=90, size=8)\n",
    "plt.yticks(size=8)\n",
    "plt.xlabel('Year')\n",
    "plt.ylabel('Crime-counts')\n",
    "plt.rcParams['figure.figsize'] = (12, 5)\n",
    "plt.show()"
   ]
  },
  {
   "cell_type": "markdown",
   "id": "8033aa7a",
   "metadata": {},
   "source": []
  },
  {
   "cell_type": "markdown",
   "id": "4f2e3ede-de31-45b4-aa96-8da780446101",
   "metadata": {},
   "source": [
    "Finally, Police chief Suneman is interested in the temporal development of only a **subset of categories, the so-called *focus crimes***.     \n",
    "Those categories are listed below (for convenient copy-paste action). \n",
    "\n",
    "### 3. Create bar-charts displaying the year-by-year development of each of these categories across the years 2003-2017."
   ]
  },
  {
   "cell_type": "code",
   "execution_count": null,
   "id": "e2aaa174-0150-42d2-98e6-2e20cfd74568",
   "metadata": {},
   "outputs": [],
   "source": []
  }
 ],
 "metadata": {
  "kernelspec": {
   "display_name": "Python 3 (ipykernel)",
   "language": "python",
   "name": "python3"
  },
  "language_info": {
   "codemirror_mode": {
    "name": "ipython",
    "version": 3
   },
   "file_extension": ".py",
   "mimetype": "text/x-python",
   "name": "python",
   "nbconvert_exporter": "python",
   "pygments_lexer": "ipython3",
   "version": "3.12.1"
  }
 },
 "nbformat": 4,
 "nbformat_minor": 5
}
