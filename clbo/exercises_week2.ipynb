{
 "cells": [
  {
   "cell_type": "markdown",
   "metadata": {},
   "source": [
    "# Exercises week 2"
   ]
  },
  {
   "cell_type": "markdown",
   "metadata": {},
   "source": [
    "Dependencies needed to run this Notebook (comment put the lines below to install dependencies if needed)"
   ]
  },
  {
   "cell_type": "code",
   "execution_count": null,
   "metadata": {},
   "outputs": [],
   "source": [
    "# !pip install -m requirements.txt\n",
    "\n",
    "# or\n",
    "# %pip install requests==2.31.0"
   ]
  },
  {
   "cell_type": "markdown",
   "metadata": {},
   "source": [
    "## Exercises 1"
   ]
  },
  {
   "cell_type": "markdown",
   "metadata": {},
   "source": [
    "Import **requests** in order to download the tsv files, and numpy and Pandas to work with data."
   ]
  },
  {
   "cell_type": "code",
   "execution_count": 25,
   "metadata": {},
   "outputs": [],
   "source": [
    "import requests\n",
    "import numpy as np\n",
    "import pandas as pd"
   ]
  },
  {
   "cell_type": "markdown",
   "metadata": {},
   "source": [
    "### 1.1 Start by downloading these four datasets"
   ]
  },
  {
   "cell_type": "code",
   "execution_count": 80,
   "metadata": {},
   "outputs": [],
   "source": [
    "for i in range(1,5):\n",
    "    req = requests.get(f'https://raw.githubusercontent.com/suneman/socialdata2023/main/files/data{i}.tsv')\n",
    "    \n",
    "    with open(f'data{i}.tsv', 'w') as f:\n",
    "        f.write(req.text)   "
   ]
  },
  {
   "cell_type": "markdown",
   "metadata": {},
   "source": [
    "Load each files content into a DataFrame naming the collums x and y, and then these dataframes into a dict."
   ]
  },
  {
   "cell_type": "code",
   "execution_count": 77,
   "metadata": {},
   "outputs": [],
   "source": [
    "data = {f'df{i}': pd.read_csv(f'data{i}.tsv', sep='\\t', names=['x', 'y']) for i in range(1,5)}"
   ]
  },
  {
   "cell_type": "markdown",
   "metadata": {},
   "source": [
    "### 1.2. Using the numpy function mean, calculate the mean of both x-values and y-values for each dataset\n",
    "_(Use python string formatting to print precisely two decimal places of these results to the output cell.)_"
   ]
  },
  {
   "cell_type": "code",
   "execution_count": 78,
   "metadata": {},
   "outputs": [
    {
     "name": "stdout",
     "output_type": "stream",
     "text": [
      "data1.tsv file\n",
      "=================\n",
      "Mean of X values: 9.00\n",
      "Mean of Y values: 7.50\n",
      "\n",
      "data2.tsv file\n",
      "=================\n",
      "Mean of X values: 9.00\n",
      "Mean of Y values: 7.50\n",
      "\n",
      "data3.tsv file\n",
      "=================\n",
      "Mean of X values: 9.00\n",
      "Mean of Y values: 7.50\n",
      "\n",
      "data4.tsv file\n",
      "=================\n",
      "Mean of X values: 9.00\n",
      "Mean of Y values: 7.50\n",
      "\n"
     ]
    }
   ],
   "source": [
    "for i, val in enumerate(data.values(), start=1):\n",
    "    x_mean = np.mean(data[f'df{i}']['x'])\n",
    "    y_mean = np.mean(data[f'df{i}']['y'])\n",
    "    \n",
    "    print(f'data{i}.tsv file')\n",
    "    print('=================')\n",
    "    print(f'Mean of X values: {x_mean:.2f}')\n",
    "    print(f'Mean of Y values: {y_mean:.2f}')\n",
    "    print()"
   ]
  },
  {
   "cell_type": "markdown",
   "metadata": {},
   "source": [
    "### 1.3 Now calculate the variance for all of the various sets of x- and y-values, by using the numpy function var.\n",
    "Print it to three decimal places."
   ]
  },
  {
   "cell_type": "code",
   "execution_count": 79,
   "metadata": {},
   "outputs": [
    {
     "name": "stdout",
     "output_type": "stream",
     "text": [
      "Variance of data in data1.tsv file\n",
      "=================\n",
      "Variation of X values: 10.000\n",
      "Variation of Y values: 3.752\n",
      "\n",
      "Variance of data in data2.tsv file\n",
      "=================\n",
      "Variation of X values: 10.000\n",
      "Variation of Y values: 3.752\n",
      "\n",
      "Variance of data in data3.tsv file\n",
      "=================\n",
      "Variation of X values: 10.000\n",
      "Variation of Y values: 3.748\n",
      "\n",
      "Variance of data in data4.tsv file\n",
      "=================\n",
      "Variation of X values: 10.000\n",
      "Variation of Y values: 3.748\n",
      "\n"
     ]
    }
   ],
   "source": [
    "for i, val in enumerate(data.values(), start=1):\n",
    "    x_var = np.var(data[f'df{i}']['x'])\n",
    "    y_var = np.var(data[f'df{i}']['y'])\n",
    "    \n",
    "    print(f'Variance of data in data{i}.tsv file')\n",
    "    print('=================')\n",
    "    print(f'Variation of X values: {x_var:.3f}')\n",
    "    print(f'Variation of Y values: {y_var:.3f}')\n",
    "    print()"
   ]
  },
  {
   "cell_type": "markdown",
   "metadata": {},
   "source": [
    "### 1.4 Use numpy to calculate the Pearson correlation between x- and y-values for all four data sets \n",
    "(also print to three decimal places)"
   ]
  },
  {
   "cell_type": "code",
   "execution_count": 87,
   "metadata": {},
   "outputs": [
    {
     "name": "stdout",
     "output_type": "stream",
     "text": [
      "PCC of data in data1.tsv file\n",
      "=================\n",
      "PCC between x and y: 0.816\n",
      "\n",
      "PCC of data in data2.tsv file\n",
      "=================\n",
      "PCC between x and y: 0.816\n",
      "\n",
      "PCC of data in data3.tsv file\n",
      "=================\n",
      "PCC between x and y: 0.816\n",
      "\n",
      "PCC of data in data4.tsv file\n",
      "=================\n",
      "PCC between x and y: 0.817\n",
      "\n"
     ]
    }
   ],
   "source": [
    "for i, val in enumerate(data.values(), start=1):\n",
    "    matrix = np.corrcoef(data[f'df{i}']['x'], data[f'df{i}']['y'])\n",
    "    \n",
    "    print(f'PCC of data in data{i}.tsv file')\n",
    "    print('=================')\n",
    "    print(f'PCC between x and y: {matrix[0,1]:.3f}')\n",
    "    print()"
   ]
  },
  {
   "cell_type": "markdown",
   "metadata": {},
   "source": []
  }
 ],
 "metadata": {
  "kernelspec": {
   "display_name": ".venv",
   "language": "python",
   "name": "python3"
  },
  "language_info": {
   "codemirror_mode": {
    "name": "ipython",
    "version": 3
   },
   "file_extension": ".py",
   "mimetype": "text/x-python",
   "name": "python",
   "nbconvert_exporter": "python",
   "pygments_lexer": "ipython3",
   "version": "3.12.1"
  }
 },
 "nbformat": 4,
 "nbformat_minor": 2
}
