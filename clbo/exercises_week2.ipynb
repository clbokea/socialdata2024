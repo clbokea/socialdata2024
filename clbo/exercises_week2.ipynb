{
 "cells": [
  {
   "cell_type": "markdown",
   "metadata": {},
   "source": [
    "# Exercises week 2"
   ]
  },
  {
   "cell_type": "markdown",
   "metadata": {},
   "source": [
    "Dependencies needed to run this Notebook (uncomment the lines below to install dependencies if needed)"
   ]
  },
  {
   "cell_type": "code",
   "execution_count": 1,
   "metadata": {},
   "outputs": [],
   "source": [
    "# !pip install -m requirements.txt\n",
    "\n",
    "# or\n",
    "# %pip install requests==2.31.0\n",
    "# %pip install scipy"
   ]
  },
  {
   "cell_type": "markdown",
   "metadata": {},
   "source": [
    "## Exercises 1"
   ]
  },
  {
   "cell_type": "markdown",
   "metadata": {},
   "source": [
    "Import **requests** in order to download the tsv files, and numpy and Pandas to work with data."
   ]
  },
  {
   "cell_type": "code",
   "execution_count": 2,
   "metadata": {},
   "outputs": [
    {
     "ename": "ModuleNotFoundError",
     "evalue": "No module named 'requests'",
     "output_type": "error",
     "traceback": [
      "\u001b[0;31m---------------------------------------------------------------------------\u001b[0m",
      "\u001b[0;31mModuleNotFoundError\u001b[0m                       Traceback (most recent call last)",
      "Cell \u001b[0;32mIn[2], line 1\u001b[0m\n\u001b[0;32m----> 1\u001b[0m \u001b[38;5;28;01mimport\u001b[39;00m \u001b[38;5;21;01mrequests\u001b[39;00m\n\u001b[1;32m      2\u001b[0m \u001b[38;5;28;01mimport\u001b[39;00m \u001b[38;5;21;01mnumpy\u001b[39;00m \u001b[38;5;28;01mas\u001b[39;00m \u001b[38;5;21;01mnp\u001b[39;00m\n\u001b[1;32m      3\u001b[0m \u001b[38;5;28;01mimport\u001b[39;00m \u001b[38;5;21;01mpandas\u001b[39;00m \u001b[38;5;28;01mas\u001b[39;00m \u001b[38;5;21;01mpd\u001b[39;00m\n",
      "\u001b[0;31mModuleNotFoundError\u001b[0m: No module named 'requests'"
     ]
    }
   ],
   "source": [
    "import requests\n",
    "import numpy as np\n",
    "import pandas as pd"
   ]
  },
  {
   "cell_type": "markdown",
   "metadata": {},
   "source": [
    "### 1.1 Start by downloading these four datasets"
   ]
  },
  {
   "cell_type": "code",
   "execution_count": null,
   "metadata": {},
   "outputs": [],
   "source": [
    "for i in range(1,5):\n",
    "    req = requests.get(f'https://raw.githubusercontent.com/suneman/socialdata2023/main/files/data{i}.tsv')\n",
    "    \n",
    "    with open(f'data{i}.tsv', 'w') as f:\n",
    "        f.write(req.text)   "
   ]
  },
  {
   "cell_type": "markdown",
   "metadata": {},
   "source": [
    "Load each files content into a DataFrame naming the collums x and y, and then these dataframes into a dict."
   ]
  },
  {
   "cell_type": "code",
   "execution_count": null,
   "metadata": {},
   "outputs": [],
   "source": [
    "data = {f'df{i}': pd.read_csv(f'https://raw.githubusercontent.com/suneman/socialdata2023/main/files/data{i}.tsv', sep='\\t', names=['x', 'y']) for i in range(1,5)}"
   ]
  },
  {
   "cell_type": "markdown",
   "metadata": {},
   "source": [
    "### 1.2. Using the numpy function mean, calculate the mean of both x-values and y-values for each dataset\n",
    "_(Use python string formatting to print precisely two decimal places of these results to the output cell.)_"
   ]
  },
  {
   "cell_type": "code",
   "execution_count": null,
   "metadata": {},
   "outputs": [
    {
     "name": "stdout",
     "output_type": "stream",
     "text": [
      "data1.tsv file\n",
      "=================\n",
      "Mean of X values: 9.00\n",
      "Mean of Y values: 7.50\n",
      "\n",
      "data2.tsv file\n",
      "=================\n",
      "Mean of X values: 9.00\n",
      "Mean of Y values: 7.50\n",
      "\n",
      "data3.tsv file\n",
      "=================\n",
      "Mean of X values: 9.00\n",
      "Mean of Y values: 7.50\n",
      "\n",
      "data4.tsv file\n",
      "=================\n",
      "Mean of X values: 9.00\n",
      "Mean of Y values: 7.50\n",
      "\n"
     ]
    }
   ],
   "source": [
    "for i, df in enumerate(data.values(), start=1):\n",
    "    x_mean = np.mean(df['x'])\n",
    "    y_mean = np.mean(df['y'])\n",
    "    \n",
    "    print(f'data{i}.tsv file')\n",
    "    print('=================')\n",
    "    print(f'Mean of X values: {x_mean:.2f}')\n",
    "    print(f'Mean of Y values: {y_mean:.2f}')\n",
    "    print()"
   ]
  },
  {
   "cell_type": "markdown",
   "metadata": {},
   "source": [
    "### 1.3 Now calculate the variance for all of the various sets of x- and y-values, by using the numpy function var.\n",
    "Print it to three decimal places."
   ]
  },
  {
   "cell_type": "code",
   "execution_count": null,
   "metadata": {},
   "outputs": [
    {
     "name": "stdout",
     "output_type": "stream",
     "text": [
      "Variance of data in data1.tsv file\n",
      "=================\n",
      "Variation of X values: 10.000\n",
      "Variation of Y values: 3.752\n",
      "\n",
      "Variance of data in data2.tsv file\n",
      "=================\n",
      "Variation of X values: 10.000\n",
      "Variation of Y values: 3.752\n",
      "\n",
      "Variance of data in data3.tsv file\n",
      "=================\n",
      "Variation of X values: 10.000\n",
      "Variation of Y values: 3.748\n",
      "\n",
      "Variance of data in data4.tsv file\n",
      "=================\n",
      "Variation of X values: 10.000\n",
      "Variation of Y values: 3.748\n",
      "\n"
     ]
    }
   ],
   "source": [
    "for i, df in enumerate(data.values(), start=1):\n",
    "    x_var = np.var(df['x'])     # here is calculated population variance, \n",
    "    y_var = np.var(df['y'])     # if sample variance is preferred a \"ddof=1\" parameter is needed, or use pd.var() instead.\n",
    "    \n",
    "    \n",
    "    print(f'Variance of data in data{i}.tsv file')\n",
    "    print('=================')\n",
    "    print(f'Variation of X values: {x_var:.3f}')\n",
    "    print(f'Variation of Y values: {y_var:.3f}')\n",
    "    print()"
   ]
  },
  {
   "cell_type": "markdown",
   "metadata": {},
   "source": [
    "### 1.4 Use numpy to calculate the Pearson correlation between x- and y-values for all four data sets \n",
    "(also print to three decimal places)"
   ]
  },
  {
   "cell_type": "code",
   "execution_count": null,
   "metadata": {},
   "outputs": [
    {
     "name": "stdout",
     "output_type": "stream",
     "text": [
      "PCC of data in data1.tsv file\n",
      "=================\n",
      "PCC between x and y: 0.816\n",
      "\n",
      "PCC of data in data2.tsv file\n",
      "=================\n",
      "PCC between x and y: 0.816\n",
      "\n",
      "PCC of data in data3.tsv file\n",
      "=================\n",
      "PCC between x and y: 0.816\n",
      "\n",
      "PCC of data in data4.tsv file\n",
      "=================\n",
      "PCC between x and y: 0.817\n",
      "\n"
     ]
    }
   ],
   "source": [
    "for i, df in enumerate(data.values(), start=1):\n",
    "    matrix = np.corrcoef(df['x'], df['y'])\n",
    "    \n",
    "    print(f'PCC of data in data{i}.tsv file')\n",
    "    print('=================')\n",
    "    print(f'PCC between x and y: {matrix[0,1]:.3f}')\n",
    "    print()"
   ]
  },
  {
   "cell_type": "markdown",
   "metadata": {},
   "source": [
    "### 1.5 use linear regression to fit a straight line f(x)=ax+b through each dataset and report a and b\n",
    "(to two decimal places)"
   ]
  },
  {
   "cell_type": "code",
   "execution_count": null,
   "metadata": {},
   "outputs": [],
   "source": [
    "from scipy import stats"
   ]
  },
  {
   "cell_type": "code",
   "execution_count": null,
   "metadata": {},
   "outputs": [
    {
     "name": "stdout",
     "output_type": "stream",
     "text": [
      "Linier regression of data in data1.tsv file\n",
      "==============================================\n",
      "The value of a: 0.50\n",
      "The value of b: 3.00\n",
      "\n",
      "Linier regression of data in data2.tsv file\n",
      "==============================================\n",
      "The value of a: 0.50\n",
      "The value of b: 3.00\n",
      "\n",
      "Linier regression of data in data3.tsv file\n",
      "==============================================\n",
      "The value of a: 0.50\n",
      "The value of b: 3.00\n",
      "\n",
      "Linier regression of data in data4.tsv file\n",
      "==============================================\n",
      "The value of a: 0.50\n",
      "The value of b: 3.00\n",
      "\n"
     ]
    }
   ],
   "source": [
    "for i, df in enumerate(data.values(), start=1):\n",
    "    a, b, r_value, p_value, std_err = stats.linregress(df['x'], df['y'])\n",
    "    \n",
    "    print(f'Linier regression of data in data{i}.tsv file')\n",
    "    print('==============================================')\n",
    "    print(f'The value of a: {a:.2f}')\n",
    "    print(f'The value of b: {b:.2f}')\n",
    "    print()"
   ]
  },
  {
   "cell_type": "markdown",
   "metadata": {},
   "source": [
    "### 1.6 Comment on the results from the previous steps. What do you observe?"
   ]
  },
  {
   "cell_type": "markdown",
   "metadata": {},
   "source": [
    "Generally, the datasets are very similar concerning the **Mean** of their x and y data (1.2).  \n",
    "The **Variance** of its x-values is precisely 10 in all datasets, and practically equal for the y-values, with a small difference of .004 between datasets (1, 2), and (3, 4) (1.3).  \n",
    "The **correlation** between x- and y-values in all four datasets is also very close to being equal (1.4).     \n",
    "Regarding the **linear regression** analysis, the slope corresponding to all datasets is 0.5, and the y-intercept is at 3.0 (1.5).  \n",
    "So, even though the actual data in the four datasets differ, they seem equal when viewed through the above tools."
   ]
  },
  {
   "cell_type": "markdown",
   "metadata": {},
   "source": [
    "### 1.7 plot the four datasets using matplotlib.pyplot\n",
    "* Use a two-by-two subplot to put all of the plots nicely in a grid and \n",
    "* use the same x and y range for all four plots. \n",
    "* And include the linear fit in all four plots."
   ]
  },
  {
   "cell_type": "code",
   "execution_count": null,
   "metadata": {},
   "outputs": [],
   "source": [
    "import matplotlib.pyplot as plt"
   ]
  },
  {
   "cell_type": "code",
   "execution_count": null,
   "metadata": {},
   "outputs": [],
   "source": [
    "a, b, r_value, p_value, std_err = stats.linregress(df['x'], df['y'])"
   ]
  },
  {
   "cell_type": "code",
   "execution_count": null,
   "metadata": {},
   "outputs": [
    {
     "data": {
      "image/png": "[encoded data removed]",
      "text/plain": [
       "<Figure size 1500x2000 with 4 Axes>"
      ]
     },
     "metadata": {},
     "output_type": "display_data"
    }
   ],
   "source": [
    "fig = plt.figure(figsize=(15, 20))  # create a figure (canvas like)\n",
    "plt.subplots_adjust(hspace=0.5)  # addjust the space between the rows\n",
    "\n",
    "for i, df in enumerate(data.values(), start=1):\n",
    "    \n",
    "    a, b, *args = stats.linregress(df['x'], df['y']) # calculate the linear regression\n",
    "    reg = a * df['x'] + b # calculate the y koordiantes for the regression line (slope * x-values * intersction).\n",
    "\n",
    "    # add the data to a subplot\n",
    "    ax = fig.add_subplot(len(df)//2, 2, i) # specify how many rows in the axes in the figure, how many collums (2), and which number of the total the specific plot is \n",
    "    ax.set_title(f'Data {i}')\n",
    "    ax.set_xlim([0, 20]) # set x axis to show from 0 to 20\n",
    "    ax.set_ylim([0, 14]) # set y axis to show from 0 to 14\n",
    "    ax.set_xticks(range(0, 21, 5)) # adjust the x-ticks layout\n",
    "    ax.set_yticks(range(2, 15, 2)) # adjust the y-ticks layout\n",
    "    ax.set_xlabel('X')\n",
    "    ax.set_ylabel('Y')\n",
    "    \n",
    "    ax.scatter(df['x'], df['y']) # add data to the chart (x,y)\n",
    "    ax.plot(df['x'], reg, color='red') # add the regression line\n",
    "\n",
    "plt.show()"
   ]
  },
  {
   "cell_type": "markdown",
   "metadata": {},
   "source": [
    "### 1.8 Explain - in your own words - what you think my point with this exercise is."
   ]
  },
  {
   "cell_type": "markdown",
   "metadata": {},
   "source": [
    "I believe the purpose of these exercises is partly to gain hands-on experience with Python's numpy, pandas, scipy, and matplotlib libraries, in conjunction with basic statistical operations. They also aim to deepen our understanding of how datasets with identical statistical properties, such as mean, variance, and correlation, can appear similar when subjected to statistical analyses. However, this does not necessarily imply that the datasets are identical or can be interpreted as such. For instance, datasets with the same mean, variance, and correlation may still differ significantly. The visual look of the data on the other hand is clearly showing a difference in what the data tell, and it shows the importance of visual plots when working with data."
   ]
  },
  {
   "cell_type": "markdown",
   "metadata": {},
   "source": [
    "### 1.9 What did you get out of asking the LLM about the previous sub-question? \n",
    "* How did you even go about asking the LLM about the point of the entire set of questions? \n",
    "* Reflect on whether or not the LLM helped you get smarter?"
   ]
  },
  {
   "cell_type": "markdown",
   "metadata": {},
   "source": [
    "Generally, I used ChatGPT for two things. Instead of using the documentation of Python libraries to figure out which methods were relevant for a specific operation, I used the LLM as a reference. This wasn't much different from what I did earlier with, for instance, Stack Overflow (Google). I have forced myself to understand what I got from the LLM, and not just accept it. For me, it is clearly the best way to learn. First, explain to myself what I want, then ask the LLM how it's done, and then keep on asking \"why\" until I understand the topic.\n",
    "\n",
    "Another thing I used ChatGPT for in this assignment has been to refresh my knowledge about Mean, Variance, PCC, and other basic statistical tools. For this, I also used other online resources, mainly YouTube, but ChatGPT was a help.\n",
    "\n",
    "Regarding the last question (Reflect on whether or not the LLM helped you get smarter?): Then yes, it is a brilliant tutor, especially if one keeps on asking \"why\" to everything until one gets it."
   ]
  },
  {
   "cell_type": "markdown",
   "metadata": {},
   "source": [
    "## Exercise 2: Questions for the lecture."
   ]
  },
  {
   "cell_type": "markdown",
   "metadata": {},
   "source": [
    "### 2.1 What is the difference between data and metadata? "
   ]
  },
  {
   "cell_type": "markdown",
   "metadata": {},
   "source": [
    "Data is the raw data collected or given. Meta data is data about data.    \n",
    "Related to \"Anscombe's quartet\" the numbers in the tsv files are the data.    \n",
    "An example of metadata would be the information about how these datasets where created (e.g what is writting in the wikipedia page)."
   ]
  },
  {
   "cell_type": "markdown",
   "metadata": {},
   "source": [
    "### 2.1.1 How does that relate to the GPS tracks-example?"
   ]
  },
  {
   "cell_type": "markdown",
   "metadata": {},
   "source": [
    "The data would be what is in the xml file. The metadata would be the generated trees, houses an streets in the google earth video example.    \n",
    "The data in it self can be a bit abstract to think about but when put into a context it suddently makes more sense."
   ]
  },
  {
   "cell_type": "markdown",
   "metadata": {},
   "source": [
    "### 2.2 Sune says that the human eye is a great tool for data analysis. \n",
    "##### Do you agree? Explain why/why not."
   ]
  },
  {
   "cell_type": "markdown",
   "metadata": {},
   "source": [
    "If we think of the eye as a tool for generating abstractions, it takes in raw caotic data and organises it into a meaningfull, simplified and context related information. Then yes i think it is a great tool for dataanalisys. "
   ]
  },
  {
   "cell_type": "markdown",
   "metadata": {},
   "source": [
    "##### Mention something that the human eye is very good at."
   ]
  },
  {
   "cell_type": "markdown",
   "metadata": {},
   "source": [
    "Creating an efficient interface to a more complex dataset. "
   ]
  },
  {
   "cell_type": "markdown",
   "metadata": {},
   "source": [
    "##### Can you think of something that is difficult for the human eye. Explain why your example is difficult."
   ]
  },
  {
   "cell_type": "markdown",
   "metadata": {},
   "source": [
    "When what we look at becomes to detailed it is gennerally more difficult for the eye to grasp. Again the idea of the eye creating an abstraction or an interface to the complex underliying datastructures."
   ]
  },
  {
   "cell_type": "markdown",
   "metadata": {},
   "source": [
    "##### Simpson's paradox is hard to explain. Come up with your own example - or find one on line."
   ]
  },
  {
   "cell_type": "markdown",
   "metadata": {},
   "source": [
    "\"Simpson’s Paradox is a statistical phenomenon where an association between two variables in a population emerges, disappears or reverses when the population is divided into subpopulations. For instance, two variables may be positively associated in a population, but be independent or even negatively associated in all subpopulations.\" - https://plato.stanford.edu/entries/paradox-simpson/"
   ]
  },
  {
   "cell_type": "markdown",
   "metadata": {},
   "source": []
  },
  {
   "cell_type": "markdown",
   "metadata": {},
   "source": [
    "##### Explain the differnece between exploratory and explanatory data analysis"
   ]
  },
  {
   "cell_type": "markdown",
   "metadata": {},
   "source": [
    "**Exploratory Data Analysis**     \n",
    "The porpous of exploratory Data Analysis is to get a broad overview of the domain under investigation.      \n",
    "\n",
    "**Explanatory data analysis**     \n",
    "Is about explaning the data or deliver a message from what you think the data is telling you. "
   ]
  },
  {
   "cell_type": "markdown",
   "metadata": {},
   "source": [
    "## Part 2: Visualizing patterns in the data"
   ]
  },
  {
   "cell_type": "markdown",
   "metadata": {},
   "source": []
  },
  {
   "cell_type": "code",
   "execution_count": 6,
   "metadata": {},
   "outputs": [],
   "source": [
    "#%pip install numpy pandas Pyarrow"
   ]
  },
  {
   "cell_type": "code",
   "execution_count": 7,
   "metadata": {},
   "outputs": [],
   "source": [
    "import numpy as np\n",
    "import pandas as pd"
   ]
  },
  {
   "cell_type": "code",
   "execution_count": 8,
   "metadata": {},
   "outputs": [],
   "source": [
    "data = pd.read_csv(\"Police_Department_Incident_Reports__Historical_2003_to_May_2018_20240129.csv\")"
   ]
  },
  {
   "cell_type": "markdown",
   "metadata": {},
   "source": []
  }
 ],
 "metadata": {
  "kernelspec": {
   "display_name": ".venv",
   "language": "python",
   "name": "python3"
  },
  "language_info": {
   "codemirror_mode": {
    "name": "ipython",
    "version": 3
   },
   "file_extension": ".py",
   "mimetype": "text/x-python",
   "name": "python",
   "nbconvert_exporter": "python",
   "pygments_lexer": "ipython3",
   "version": "3.12.1"
  }
 },
 "nbformat": 4,
 "nbformat_minor": 2
}
