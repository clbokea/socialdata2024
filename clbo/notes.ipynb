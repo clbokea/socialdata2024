{
 "cells": [
  {
   "cell_type": "markdown",
   "metadata": {},
   "source": [
    "# Notes week 2"
   ]
  },
  {
   "cell_type": "markdown",
   "metadata": {},
   "source": [
    "Population variance    \n",
    "Sample variance\n",
    "\n",
    "Numpy uses by default population variance (ddof = 0)    \n",
    "Panda uses population variance (ddof = 1)\n",
    "\n"
   ]
  },
  {
   "cell_type": "markdown",
   "metadata": {},
   "source": [
    "## Mean (avarage)    \n",
    "Calculated by added all values in a dataset and then dividing it by the numbers of values.\n",
    "\n",
    "\n",
    "$$\\mu = \\frac{1}{N} \\sum_{i=1}^{N} x_i$$\n",
    "\n",
    "   \n",
    "\n",
    "$$\\mu = \\frac{3+3+3+3}{4} = 3 $$\n",
    "\n",
    "$$\\mu = \\frac{2+3+3+4}{4} = 3 $$\n",
    "\n"
   ]
  },
  {
   "cell_type": "markdown",
   "metadata": {},
   "source": [
    "## Variance\n",
    "Variance measures how much the values in a dataset differ from the mean. \n",
    "\n",
    "* Population variance:    \n",
    "\n",
    "$$\\sigma^2 = \\frac{1}{N} \\sum_{i=1}^{N} (x_i - \\mu)^2$$\n",
    "\n",
    "* Sample variance:\n",
    "\n",
    "$$s^2 = \\frac{1}{n-1} \\sum_{i=1}^{n} (x_i - \\bar{x})^2$$\n",
    "\n",
    "$$var(x_i) = \\frac{(3-3)^2+(3-3)^2+(3-3)^2+(3-3)^2}4 = 0 $$\n",
    "$$var(x_i) = \\frac{(2-3)^2+(3-3)^2+(3-3)^2+(3-4)^2}4 = \\frac{1}2 $$\n"
   ]
  },
  {
   "cell_type": "markdown",
   "metadata": {},
   "source": [
    "## Pearson correlation coefficient"
   ]
  },
  {
   "cell_type": "markdown",
   "metadata": {},
   "source": []
  },
  {
   "cell_type": "markdown",
   "metadata": {},
   "source": [
    "## Covariance"
   ]
  },
  {
   "cell_type": "markdown",
   "metadata": {},
   "source": []
  }
 ],
 "metadata": {
  "kernelspec": {
   "display_name": ".venv",
   "language": "python",
   "name": "python3"
  },
  "language_info": {
   "name": "python",
   "version": "3.12.1"
  }
 },
 "nbformat": 4,
 "nbformat_minor": 2
}
