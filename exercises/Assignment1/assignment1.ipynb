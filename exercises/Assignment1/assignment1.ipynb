{
 "cells": [
  {
   "cell_type": "markdown",
   "metadata": {},
   "source": [
    "# Assignmnet 1"
   ]
  },
  {
   "cell_type": "markdown",
   "metadata": {},
   "source": [
    "## A1 Part 1: Visualizing patterns in the data\n",
    "In this sub-assignment, we recreate some of the plots from Week 2. We look only at the focus-crimes.    \n"
   ]
  },
  {
   "cell_type": "markdown",
   "metadata": {},
   "source": [
    "For each set of plots below, describe the plots (as you would in the figure text in a report or paper), and pick a few aspects that stand out to you and comment on those (we provided a couple of ideas during class but it's OK to add more).\n",
    "\n",
    "* First create the week-day plots, the months, the 24-hour cycle, and the 168 hours of the week as barcharts (Week 2, Part 2)."
   ]
  },
  {
   "cell_type": "code",
   "execution_count": 3,
   "metadata": {},
   "outputs": [],
   "source": [
    "import numpy as np\n",
    "import pandas as pd\n",
    "import matplotlib.pyplot as plt\n",
    "\n",
    "plt.rcParams['font.family'] = 'Helvetica'\n",
    "\n",
    "data = pd.read_csv(\"Police_Department_Incident_Reports__Historical_2003_to_May_2018_20240129.csv\")"
   ]
  },
  {
   "cell_type": "code",
   "execution_count": 4,
   "metadata": {},
   "outputs": [],
   "source": [
    "focuscrimes = set(['WEAPON LAWS', 'PROSTITUTION', 'DRIVING UNDER THE INFLUENCE', 'ROBBERY', 'BURGLARY', 'ASSAULT', 'DRUNKENNESS', 'DRUG/NARCOTIC', 'TRESPASS', 'LARCENY/THEFT', 'VANDALISM', 'VEHICLE THEFT', 'STOLEN PROPERTY', 'DISORDERLY CONDUCT'])\n",
    "focuscrimes = pd.Series(sorted(focuscrimes))"
   ]
  },
  {
   "cell_type": "markdown",
   "metadata": {},
   "source": [
    "* Next choose a crime type that you like and create a calendar plot (Week 2, Part 4). Don't forget to comment on patterns you observe.\n",
    "* Finally, choose a different crime type and create a polar plot of its 24hour cycle (Week 2, Part 4). Again, don't forget to comment as you would in a figure text.\n",
    "* Write a short reflection (max 400 words, shorter is OK) on how you've used LLMs to solve these assignments (or if you didn't use LLMs, explain why)."
   ]
  },
  {
   "cell_type": "markdown",
   "metadata": {},
   "source": [
    "## A1 Part 2: Dataviz questions "
   ]
  },
  {
   "cell_type": "markdown",
   "metadata": {},
   "source": [
    "**Question: What is the difference between data and metadata? How does that relate to the GPS tracks-example?**    \n",
    "> Data refers to the primary information collected, representing the main subject of interest. Metadata, by contrast, is data about data, providing essential context and descriptions that help to understand and use the data more effectively.\n",
    ">  \n",
    "> In the context of the GPS tracks example, the data is specified in the \\<trkpt\\> section of the XML file. It includes latitude, longitude, and timestamp information. The metadata is primarily contained within the \\<metadata\\> section of the XML file. This includes information such as a <link> tag to the Garmin Connect platform, and a \\<time\\> tag probably specifying an update time or the like of the device used to track the data.\n"
   ]
  },
  {
   "cell_type": "markdown",
   "metadata": {},
   "source": [
    "Q: **Sune says that the human eye is a great tool for data analysis. Do you agree? Explain why/why not.**    \n",
    "> When we talk about data analysis, the eye is an excellent tool for recognizing patterns such as detecting outliers, trends, and correlations in visual data. Our eyes are biologically designed for this pattern recognition, and we can utilize this ability to perform ultra-fast pattern recognition tasks, such as comparing the sizes of two boxes or the height of bars in a bar chart.  \n",
    "  \n",
    "Q: **Mention something that the human eye is very good at.**      \n",
    "> If we have a large dataset, count related data and put it into visual boxes it becomes an easy task for the eye to detect wich one is largest or which one is double size of the other and so on.\n",
    "\n",
    "Q: **Can you think of something that is difficult for the human eye to process visually. Explain why your example is difficult.**    \n",
    "> When what we look at becomes detailed it is gennerally more difficult for the eye to grasp. The concept can be described as [visual crowding](https://www.ncbi.nlm.nih.gov/pmc/articles/PMC3070834/). So, highly detailed charts with numerous data points, overlapping lines, and minimal contrast. Elements that are too small, too similar in color, or too densely arranged is complicated for the eye to grasp.\n",
    "> Another problem could occour with optical illutions. WRITE MORE!"
   ]
  },
  {
   "cell_type": "markdown",
   "metadata": {},
   "source": [
    "**Q: Simpson's paradox is hard to explain. Come up with your own example - or find one on line.**    \n",
    "> A fomal description of the Simpson's paradox kan be found here: \"Simpson’s Paradox is a statistical phenomenon where an association between two variables in a population emerges, disappears or reverses when the population is divided into subpopulations. For instance, two variables may be positively associated in a population, but be independent or even negatively associated in all subpopulations.\" - https://plato.stanford.edu/entries/paradox-simpson/    \n",
    "> An example of this could be a poll about some policys popularity:\n",
    "  * Urban Regions:\n",
    "    * 1000 respondents in total.\n",
    "        * Women: 300 respondents.\n",
    "          * 180 support the policy (60% of women).\n",
    "        * Men: 700 respondents.\n",
    "          * 280 support the policy (40% of men).\n",
    "  * Countryside Regions:\n",
    "    * 1000 respondents in total.\n",
    "      * Women: 700 respondents.\n",
    "          * 140 support the policy (20% of women).\n",
    "      * Men: 300 respondents.\n",
    "          * 240 support the policy (80% of men).\n",
    "\n",
    "  At first glance, it may seem that women are more likely to support the policy in Urban areas and less likely in Contryside areas, with the opposite trend for men.\n",
    "\n",
    "  But if we combine the areas we get:\n",
    "\n",
    "  * Total Respondents: 2000\n",
    "    * Total Women: 1000 (300 Urban + 700 Rural)\n",
    "      * Support the policy: 320 (180 from Urban + 140 from Rural) = 32% of women\n",
    "    * Total Men: 1000 (700 Urban + 300 Rural)\n",
    "      * Support the policy: 520 (280 from Urban + 240 from Rural) = 52% of men\n",
    "\n",
    "In Urban areas, more women than men support the policy, while in Contryside areas, men's support is higher. Yet, combining the data, due to gender distribution across regions, misleadingly shows men as more supportive overall, reversing the regional trends."
   ]
  },
  {
   "cell_type": "markdown",
   "metadata": {},
   "source": [
    "Q: **In your own words, explain the differnece between exploratory and explanatory data analysis.**    \n",
    ">  **Exploratory Data Analysis**    \n",
    "> The purpose of Exploratory Data Analysis is to gain a broad overview of the domain. A simple example of this could be using the ```head()``` function on a DataFrame, ```df.head()```, to get an overview of the columns and data in the dataset.        \n",
    ">\n",
    "> **Explanatory Data Analysis**    \n",
    "> This process is about explaining the data or delivering a message based on your interpretation of what the data is indicating. Taking our 'SF crime dataset' as an example, we exemplify this when we analyze the 'Number of crimes per weekday by category' and plotted it out in 14 bar charts. "
   ]
  },
  {
   "cell_type": "markdown",
   "metadata": {},
   "source": [
    "## Contributions\n",
    "I have not been in a group for this forst assignment and have therefore dome all work on my own. "
   ]
  },
  {
   "cell_type": "markdown",
   "metadata": {},
   "source": []
  }
 ],
 "metadata": {
  "kernelspec": {
   "display_name": ".venv",
   "language": "python",
   "name": "python3"
  },
  "language_info": {
   "codemirror_mode": {
    "name": "ipython",
    "version": 3
   },
   "file_extension": ".py",
   "mimetype": "text/x-python",
   "name": "python",
   "nbconvert_exporter": "python",
   "pygments_lexer": "ipython3",
   "version": "3.12.1"
  }
 },
 "nbformat": 4,
 "nbformat_minor": 2
}
