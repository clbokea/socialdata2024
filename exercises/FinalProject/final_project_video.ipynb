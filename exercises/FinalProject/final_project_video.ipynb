{
 "cells": [
  {
   "cell_type": "code",
   "execution_count": 56,
   "metadata": {},
   "outputs": [
    {
     "data": {
      "text/markdown": [
       "### Reading: <small>Garmin_20241403/IT_CONSENT_HISTORY/consentHistory.json</small>"
      ],
      "text/plain": [
       "<IPython.core.display.Markdown object>"
      ]
     },
     "metadata": {},
     "output_type": "display_data"
    },
    {
     "data": {
      "text/markdown": [
       "### Reading: <small>Garmin_20241403/IT_DEVICE_AND_CONTENT/devicesandcontent.json</small>"
      ],
      "text/plain": [
       "<IPython.core.display.Markdown object>"
      ]
     },
     "metadata": {},
     "output_type": "display_data"
    },
    {
     "data": {
      "text/markdown": [
       "### Reading: <small>Garmin_20241403/IT_ORDERS/orders.json</small>"
      ],
      "text/plain": [
       "<IPython.core.display.Markdown object>"
      ]
     },
     "metadata": {},
     "output_type": "display_data"
    },
    {
     "data": {
      "text/markdown": [
       "### Reading: <small>Garmin_20241403/DI_CONNECT/DI-Connect-Aggregator/HydrationLogFile_2021-03-10_2021-06-18.json</small>"
      ],
      "text/plain": [
       "<IPython.core.display.Markdown object>"
      ]
     },
     "metadata": {},
     "output_type": "display_data"
    },
    {
     "data": {
      "text/markdown": [
       "### Reading: <small>Garmin_20241403/DI_CONNECT/DI-Connect-Aggregator/UDSFile_2012-09-14_2012-12-23.json</small>"
      ],
      "text/plain": [
       "<IPython.core.display.Markdown object>"
      ]
     },
     "metadata": {},
     "output_type": "display_data"
    },
    {
     "data": {
      "text/markdown": [
       "### Reading: <small>Garmin_20241403/DI_CONNECT/DI-Connect-Aggregator/UDSFile_2011-05-03_2011-08-11.json</small>"
      ],
      "text/plain": [
       "<IPython.core.display.Markdown object>"
      ]
     },
     "metadata": {},
     "output_type": "display_data"
    },
    {
     "data": {
      "text/markdown": [
       "### Reading: <small>Garmin_20241403/DI_CONNECT/DI-Connect-Aggregator/UDSFile_2011-08-11_2011-11-19.json</small>"
      ],
      "text/plain": [
       "<IPython.core.display.Markdown object>"
      ]
     },
     "metadata": {},
     "output_type": "display_data"
    },
    {
     "data": {
      "text/markdown": [
       "### Reading: <small>Garmin_20241403/DI_CONNECT/DI-Connect-Aggregator/HydrationLogFile_2021-09-26_2022-01-04.json</small>"
      ],
      "text/plain": [
       "<IPython.core.display.Markdown object>"
      ]
     },
     "metadata": {},
     "output_type": "display_data"
    },
    {
     "data": {
      "text/markdown": [
       "### Reading: <small>Garmin_20241403/DI_CONNECT/DI-Connect-Aggregator/UDSFile_2022-07-24_2022-11-01.json</small>"
      ],
      "text/plain": [
       "<IPython.core.display.Markdown object>"
      ]
     },
     "metadata": {},
     "output_type": "display_data"
    },
    {
     "data": {
      "text/markdown": [
       "### Reading: <small>Garmin_20241403/DI_CONNECT/DI-Connect-Aggregator/HydrationLogFile_2022-01-04_2022-04-14.json</small>"
      ],
      "text/plain": [
       "<IPython.core.display.Markdown object>"
      ]
     },
     "metadata": {},
     "output_type": "display_data"
    },
    {
     "data": {
      "text/markdown": [
       "### Reading: <small>Garmin_20241403/DI_CONNECT/DI-Connect-Aggregator/HydrationLogFile_2021-06-18_2021-09-26.json</small>"
      ],
      "text/plain": [
       "<IPython.core.display.Markdown object>"
      ]
     },
     "metadata": {},
     "output_type": "display_data"
    },
    {
     "data": {
      "text/markdown": [
       "### Reading: <small>Garmin_20241403/DI_CONNECT/DI-Connect-Aggregator/HydrationLogFile_2023-08-27_2023-12-05.json</small>"
      ],
      "text/plain": [
       "<IPython.core.display.Markdown object>"
      ]
     },
     "metadata": {},
     "output_type": "display_data"
    },
    {
     "data": {
      "text/markdown": [
       "### Reading: <small>Garmin_20241403/DI_CONNECT/DI-Connect-Aggregator/UDSFile_2022-11-01_2023-02-09.json</small>"
      ],
      "text/plain": [
       "<IPython.core.display.Markdown object>"
      ]
     },
     "metadata": {},
     "output_type": "display_data"
    },
    {
     "data": {
      "text/markdown": [
       "### Reading: <small>Garmin_20241403/DI_CONNECT/DI-Connect-Aggregator/UDSFile_2023-08-28_2023-12-06.json</small>"
      ],
      "text/plain": [
       "<IPython.core.display.Markdown object>"
      ]
     },
     "metadata": {},
     "output_type": "display_data"
    },
    {
     "data": {
      "text/markdown": [
       "### Reading: <small>Garmin_20241403/DI_CONNECT/DI-Connect-Aggregator/HydrationLogFile_2020-08-22_2020-11-30.json</small>"
      ],
      "text/plain": [
       "<IPython.core.display.Markdown object>"
      ]
     },
     "metadata": {},
     "output_type": "display_data"
    },
    {
     "data": {
      "text/markdown": [
       "### Reading: <small>Garmin_20241403/DI_CONNECT/DI-Connect-Aggregator/HydrationLogFile_2020-05-14_2020-08-22.json</small>"
      ],
      "text/plain": [
       "<IPython.core.display.Markdown object>"
      ]
     },
     "metadata": {},
     "output_type": "display_data"
    },
    {
     "data": {
      "text/markdown": [
       "### Reading: <small>Garmin_20241403/DI_CONNECT/DI-Connect-Aggregator/HydrationLogFile_2022-04-14_2022-07-23.json</small>"
      ],
      "text/plain": [
       "<IPython.core.display.Markdown object>"
      ]
     },
     "metadata": {},
     "output_type": "display_data"
    },
    {
     "data": {
      "text/markdown": [
       "### Reading: <small>Garmin_20241403/DI_CONNECT/DI-Connect-Aggregator/UDSFile_2005-11-10_2006-02-18.json</small>"
      ],
      "text/plain": [
       "<IPython.core.display.Markdown object>"
      ]
     },
     "metadata": {},
     "output_type": "display_data"
    },
    {
     "data": {
      "text/markdown": [
       "### Reading: <small>Garmin_20241403/DI_CONNECT/DI-Connect-Aggregator/HydrationLogFile_2023-05-19_2023-08-27.json</small>"
      ],
      "text/plain": [
       "<IPython.core.display.Markdown object>"
      ]
     },
     "metadata": {},
     "output_type": "display_data"
    },
    {
     "data": {
      "text/markdown": [
       "### Reading: <small>Garmin_20241403/DI_CONNECT/DI-Connect-Aggregator/UDSFile_2014-08-15_2014-11-23.json</small>"
      ],
      "text/plain": [
       "<IPython.core.display.Markdown object>"
      ]
     },
     "metadata": {},
     "output_type": "display_data"
    },
    {
     "data": {
      "text/markdown": [
       "### Reading: <small>Garmin_20241403/DI_CONNECT/DI-Connect-Aggregator/UDSFile_2014-01-27_2014-05-07.json</small>"
      ],
      "text/plain": [
       "<IPython.core.display.Markdown object>"
      ]
     },
     "metadata": {},
     "output_type": "display_data"
    },
    {
     "data": {
      "text/markdown": [
       "### Reading: <small>Garmin_20241403/DI_CONNECT/DI-Connect-Aggregator/HydrationLogFile_2023-02-08_2023-05-19.json</small>"
      ],
      "text/plain": [
       "<IPython.core.display.Markdown object>"
      ]
     },
     "metadata": {},
     "output_type": "display_data"
    },
    {
     "data": {
      "text/markdown": [
       "### Reading: <small>Garmin_20241403/DI_CONNECT/DI-Connect-Aggregator/HydrationLogFile_2022-07-23_2022-10-31.json</small>"
      ],
      "text/plain": [
       "<IPython.core.display.Markdown object>"
      ]
     },
     "metadata": {},
     "output_type": "display_data"
    },
    {
     "data": {
      "text/markdown": [
       "### Reading: <small>Garmin_20241403/DI_CONNECT/DI-Connect-Aggregator/UDSFile_2021-09-27_2022-01-05.json</small>"
      ],
      "text/plain": [
       "<IPython.core.display.Markdown object>"
      ]
     },
     "metadata": {},
     "output_type": "display_data"
    },
    {
     "data": {
      "text/markdown": [
       "### Reading: <small>Garmin_20241403/DI_CONNECT/DI-Connect-Aggregator/UDSFile_2013-07-11_2013-10-19.json</small>"
      ],
      "text/plain": [
       "<IPython.core.display.Markdown object>"
      ]
     },
     "metadata": {},
     "output_type": "display_data"
    },
    {
     "data": {
      "text/markdown": [
       "### Reading: <small>Garmin_20241403/DI_CONNECT/DI-Connect-Aggregator/UDSFile_2022-01-05_2022-04-15.json</small>"
      ],
      "text/plain": [
       "<IPython.core.display.Markdown object>"
      ]
     },
     "metadata": {},
     "output_type": "display_data"
    },
    {
     "data": {
      "text/markdown": [
       "### Reading: <small>Garmin_20241403/DI_CONNECT/DI-Connect-Aggregator/HydrationLogFile_2022-10-31_2023-02-08.json</small>"
      ],
      "text/plain": [
       "<IPython.core.display.Markdown object>"
      ]
     },
     "metadata": {},
     "output_type": "display_data"
    },
    {
     "data": {
      "text/markdown": [
       "### Reading: <small>Garmin_20241403/DI_CONNECT/DI-Connect-Aggregator/HydrationLogFile_2020-11-30_2021-03-10.json</small>"
      ],
      "text/plain": [
       "<IPython.core.display.Markdown object>"
      ]
     },
     "metadata": {},
     "output_type": "display_data"
    },
    {
     "data": {
      "text/markdown": [
       "### Reading: <small>Garmin_20241403/DI_CONNECT/DI-Connect-Aggregator/HydrationLogFile_2023-12-05_2024-03-14.json</small>"
      ],
      "text/plain": [
       "<IPython.core.display.Markdown object>"
      ]
     },
     "metadata": {},
     "output_type": "display_data"
    },
    {
     "data": {
      "text/markdown": [
       "### Reading: <small>Garmin_20241403/DI_CONNECT/DI-Connect-Aggregator/UDSFile_2021-03-11_2021-06-19.json</small>"
      ],
      "text/plain": [
       "<IPython.core.display.Markdown object>"
      ]
     },
     "metadata": {},
     "output_type": "display_data"
    },
    {
     "data": {
      "text/markdown": [
       "### Reading: <small>Garmin_20241403/DI_CONNECT/DI-Connect-Aggregator/UDSFile_2022-04-15_2022-07-24.json</small>"
      ],
      "text/plain": [
       "<IPython.core.display.Markdown object>"
      ]
     },
     "metadata": {},
     "output_type": "display_data"
    },
    {
     "data": {
      "text/markdown": [
       "### Reading: <small>Garmin_20241403/DI_CONNECT/DI-Connect-Aggregator/UDSFile_2023-12-06_2024-03-15.json</small>"
      ],
      "text/plain": [
       "<IPython.core.display.Markdown object>"
      ]
     },
     "metadata": {},
     "output_type": "display_data"
    },
    {
     "data": {
      "text/markdown": [
       "### Reading: <small>Garmin_20241403/DI_CONNECT/DI-Connect-Aggregator/UDSFile_2020-05-15_2020-08-23.json</small>"
      ],
      "text/plain": [
       "<IPython.core.display.Markdown object>"
      ]
     },
     "metadata": {},
     "output_type": "display_data"
    },
    {
     "data": {
      "text/markdown": [
       "### Reading: <small>Garmin_20241403/DI_CONNECT/DI-Connect-Aggregator/UDSFile_2023-05-20_2023-08-28.json</small>"
      ],
      "text/plain": [
       "<IPython.core.display.Markdown object>"
      ]
     },
     "metadata": {},
     "output_type": "display_data"
    },
    {
     "data": {
      "text/markdown": [
       "### Reading: <small>Garmin_20241403/DI_CONNECT/DI-Connect-Aggregator/UDSFile_2021-06-19_2021-09-27.json</small>"
      ],
      "text/plain": [
       "<IPython.core.display.Markdown object>"
      ]
     },
     "metadata": {},
     "output_type": "display_data"
    },
    {
     "data": {
      "text/markdown": [
       "### Reading: <small>Garmin_20241403/DI_CONNECT/DI-Connect-Aggregator/UDSFile_2014-05-07_2014-08-15.json</small>"
      ],
      "text/plain": [
       "<IPython.core.display.Markdown object>"
      ]
     },
     "metadata": {},
     "output_type": "display_data"
    },
    {
     "data": {
      "text/markdown": [
       "### Reading: <small>Garmin_20241403/DI_CONNECT/DI-Connect-Aggregator/UDSFile_2020-12-01_2021-03-11.json</small>"
      ],
      "text/plain": [
       "<IPython.core.display.Markdown object>"
      ]
     },
     "metadata": {},
     "output_type": "display_data"
    },
    {
     "data": {
      "text/markdown": [
       "### Reading: <small>Garmin_20241403/DI_CONNECT/DI-Connect-Aggregator/UDSFile_2023-02-09_2023-05-20.json</small>"
      ],
      "text/plain": [
       "<IPython.core.display.Markdown object>"
      ]
     },
     "metadata": {},
     "output_type": "display_data"
    },
    {
     "data": {
      "text/markdown": [
       "### Reading: <small>Garmin_20241403/DI_CONNECT/DI-Connect-Aggregator/UDSFile_2020-08-23_2020-12-01.json</small>"
      ],
      "text/plain": [
       "<IPython.core.display.Markdown object>"
      ]
     },
     "metadata": {},
     "output_type": "display_data"
    },
    {
     "data": {
      "text/markdown": [
       "### Reading: <small>Garmin_20241403/DI_CONNECT/DI-Connect-Metrics/MetricsMaxMetData_20220519_20220827_86607424.json</small>"
      ],
      "text/plain": [
       "<IPython.core.display.Markdown object>"
      ]
     },
     "metadata": {},
     "output_type": "display_data"
    },
    {
     "data": {
      "text/markdown": [
       "### Reading: <small>Garmin_20241403/DI_CONNECT/DI-Connect-Metrics/MetricsMaxMetData_20231001_20240109_86607424.json</small>"
      ],
      "text/plain": [
       "<IPython.core.display.Markdown object>"
      ]
     },
     "metadata": {},
     "output_type": "display_data"
    },
    {
     "data": {
      "text/markdown": [
       "### Reading: <small>Garmin_20241403/DI_CONNECT/DI-Connect-Metrics/MetricsMaxMetData_20220827_20221205_86607424.json</small>"
      ],
      "text/plain": [
       "<IPython.core.display.Markdown object>"
      ]
     },
     "metadata": {},
     "output_type": "display_data"
    },
    {
     "data": {
      "text/markdown": [
       "### Reading: <small>Garmin_20241403/DI_CONNECT/DI-Connect-Metrics/MetricsMaxMetData_20230623_20231001_86607424.json</small>"
      ],
      "text/plain": [
       "<IPython.core.display.Markdown object>"
      ]
     },
     "metadata": {},
     "output_type": "display_data"
    },
    {
     "data": {
      "text/markdown": [
       "### Reading: <small>Garmin_20241403/DI_CONNECT/DI-Connect-Metrics/MetricsMaxMetData_20220208_20220519_86607424.json</small>"
      ],
      "text/plain": [
       "<IPython.core.display.Markdown object>"
      ]
     },
     "metadata": {},
     "output_type": "display_data"
    },
    {
     "data": {
      "text/markdown": [
       "### Reading: <small>Garmin_20241403/DI_CONNECT/DI-Connect-Metrics/MetricsMaxMetData_20200926_20210104_86607424.json</small>"
      ],
      "text/plain": [
       "<IPython.core.display.Markdown object>"
      ]
     },
     "metadata": {},
     "output_type": "display_data"
    },
    {
     "data": {
      "text/markdown": [
       "### Reading: <small>Garmin_20241403/DI_CONNECT/DI-Connect-Metrics/MetricsMaxMetData_20230315_20230623_86607424.json</small>"
      ],
      "text/plain": [
       "<IPython.core.display.Markdown object>"
      ]
     },
     "metadata": {},
     "output_type": "display_data"
    },
    {
     "data": {
      "text/markdown": [
       "### Reading: <small>Garmin_20241403/DI_CONNECT/DI-Connect-Metrics/MetricsMaxMetData_20211031_20220208_86607424.json</small>"
      ],
      "text/plain": [
       "<IPython.core.display.Markdown object>"
      ]
     },
     "metadata": {},
     "output_type": "display_data"
    },
    {
     "data": {
      "text/markdown": [
       "### Reading: <small>Garmin_20241403/DI_CONNECT/DI-Connect-Metrics/MetricsMaxMetData_20210414_20210723_86607424.json</small>"
      ],
      "text/plain": [
       "<IPython.core.display.Markdown object>"
      ]
     },
     "metadata": {},
     "output_type": "display_data"
    },
    {
     "data": {
      "text/markdown": [
       "### Reading: <small>Garmin_20241403/DI_CONNECT/DI-Connect-Metrics/MetricsMaxMetData_20210104_20210414_86607424.json</small>"
      ],
      "text/plain": [
       "<IPython.core.display.Markdown object>"
      ]
     },
     "metadata": {},
     "output_type": "display_data"
    },
    {
     "data": {
      "text/markdown": [
       "### Reading: <small>Garmin_20241403/DI_CONNECT/DI-Connect-Metrics/MetricsMaxMetData_20221205_20230315_86607424.json</small>"
      ],
      "text/plain": [
       "<IPython.core.display.Markdown object>"
      ]
     },
     "metadata": {},
     "output_type": "display_data"
    },
    {
     "data": {
      "text/markdown": [
       "### Reading: <small>Garmin_20241403/DI_CONNECT/DI-Connect-Metrics/MetricsMaxMetData_20200618_20200926_86607424.json</small>"
      ],
      "text/plain": [
       "<IPython.core.display.Markdown object>"
      ]
     },
     "metadata": {},
     "output_type": "display_data"
    },
    {
     "data": {
      "text/markdown": [
       "### Reading: <small>Garmin_20241403/DI_CONNECT/DI-Connect-Metrics/MetricsMaxMetData_20240109_20240418_86607424.json</small>"
      ],
      "text/plain": [
       "<IPython.core.display.Markdown object>"
      ]
     },
     "metadata": {},
     "output_type": "display_data"
    },
    {
     "data": {
      "text/markdown": [
       "### Reading: <small>Garmin_20241403/DI_CONNECT/DI-Connect-Metrics/MetricsMaxMetData_20210723_20211031_86607424.json</small>"
      ],
      "text/plain": [
       "<IPython.core.display.Markdown object>"
      ]
     },
     "metadata": {},
     "output_type": "display_data"
    },
    {
     "data": {
      "text/markdown": [
       "### Reading: <small>Garmin_20241403/DI_CONNECT/DI-ATP/Garmin_Coach_Pause_History.json</small>"
      ],
      "text/plain": [
       "<IPython.core.display.Markdown object>"
      ]
     },
     "metadata": {},
     "output_type": "display_data"
    },
    {
     "data": {
      "text/markdown": [
       "### Reading: <small>Garmin_20241403/DI_CONNECT/DI-Connect-Wellness/2020-05-15_2020-08-23_86607424_sleepData.json</small>"
      ],
      "text/plain": [
       "<IPython.core.display.Markdown object>"
      ]
     },
     "metadata": {},
     "output_type": "display_data"
    },
    {
     "data": {
      "text/markdown": [
       "### Reading: <small>Garmin_20241403/DI_CONNECT/DI-Connect-Wellness/86607424_bioMetrics_latest.json</small>"
      ],
      "text/plain": [
       "<IPython.core.display.Markdown object>"
      ]
     },
     "metadata": {},
     "output_type": "display_data"
    },
    {
     "data": {
      "text/markdown": [
       "### Reading: <small>Garmin_20241403/DI_CONNECT/DI-Connect-Wellness/2023-02-09_2023-05-20_86607424_sleepData.json</small>"
      ],
      "text/plain": [
       "<IPython.core.display.Markdown object>"
      ]
     },
     "metadata": {},
     "output_type": "display_data"
    },
    {
     "data": {
      "text/markdown": [
       "### Reading: <small>Garmin_20241403/DI_CONNECT/DI-Connect-Wellness/2023-05-20_2023-08-28_86607424_sleepData.json</small>"
      ],
      "text/plain": [
       "<IPython.core.display.Markdown object>"
      ]
     },
     "metadata": {},
     "output_type": "display_data"
    },
    {
     "data": {
      "text/markdown": [
       "### Reading: <small>Garmin_20241403/DI_CONNECT/DI-Connect-Wellness/86607424_userBioMetricProfileData.json</small>"
      ],
      "text/plain": [
       "<IPython.core.display.Markdown object>"
      ]
     },
     "metadata": {},
     "output_type": "display_data"
    },
    {
     "data": {
      "text/markdown": [
       "### Reading: <small>Garmin_20241403/DI_CONNECT/DI-Connect-Wellness/2023-12-06_2024-03-15_86607424_sleepData.json</small>"
      ],
      "text/plain": [
       "<IPython.core.display.Markdown object>"
      ]
     },
     "metadata": {},
     "output_type": "display_data"
    },
    {
     "data": {
      "text/markdown": [
       "### Reading: <small>Garmin_20241403/DI_CONNECT/DI-Connect-Wellness/2023-08-28_2023-12-06_86607424_sleepData.json</small>"
      ],
      "text/plain": [
       "<IPython.core.display.Markdown object>"
      ]
     },
     "metadata": {},
     "output_type": "display_data"
    },
    {
     "data": {
      "text/markdown": [
       "### Reading: <small>Garmin_20241403/DI_CONNECT/DI-Connect-Wellness/86607424_DailyMenstrualLogs.json</small>"
      ],
      "text/plain": [
       "<IPython.core.display.Markdown object>"
      ]
     },
     "metadata": {},
     "output_type": "display_data"
    },
    {
     "data": {
      "text/markdown": [
       "### Reading: <small>Garmin_20241403/DI_CONNECT/DI-Connect-Wellness/2022-07-24_2022-11-01_86607424_sleepData.json</small>"
      ],
      "text/plain": [
       "<IPython.core.display.Markdown object>"
      ]
     },
     "metadata": {},
     "output_type": "display_data"
    },
    {
     "data": {
      "text/markdown": [
       "### Reading: <small>Garmin_20241403/DI_CONNECT/DI-Connect-Wellness/2022-01-05_2022-04-15_86607424_sleepData.json</small>"
      ],
      "text/plain": [
       "<IPython.core.display.Markdown object>"
      ]
     },
     "metadata": {},
     "output_type": "display_data"
    },
    {
     "data": {
      "text/markdown": [
       "### Reading: <small>Garmin_20241403/DI_CONNECT/DI-Connect-Wellness/2021-03-11_2021-06-19_86607424_sleepData.json</small>"
      ],
      "text/plain": [
       "<IPython.core.display.Markdown object>"
      ]
     },
     "metadata": {},
     "output_type": "display_data"
    },
    {
     "data": {
      "text/markdown": [
       "### Reading: <small>Garmin_20241403/DI_CONNECT/DI-Connect-Wellness/2022-04-15_2022-07-24_86607424_sleepData.json</small>"
      ],
      "text/plain": [
       "<IPython.core.display.Markdown object>"
      ]
     },
     "metadata": {},
     "output_type": "display_data"
    },
    {
     "data": {
      "text/markdown": [
       "### Reading: <small>Garmin_20241403/DI_CONNECT/DI-Connect-Wellness/2020-08-23_2020-12-01_86607424_sleepData.json</small>"
      ],
      "text/plain": [
       "<IPython.core.display.Markdown object>"
      ]
     },
     "metadata": {},
     "output_type": "display_data"
    },
    {
     "data": {
      "text/markdown": [
       "### Reading: <small>Garmin_20241403/DI_CONNECT/DI-Connect-Wellness/2022-11-01_2023-02-09_86607424_sleepData.json</small>"
      ],
      "text/plain": [
       "<IPython.core.display.Markdown object>"
      ]
     },
     "metadata": {},
     "output_type": "display_data"
    },
    {
     "data": {
      "text/markdown": [
       "### Reading: <small>Garmin_20241403/DI_CONNECT/DI-Connect-Wellness/2021-09-27_2022-01-05_86607424_sleepData.json</small>"
      ],
      "text/plain": [
       "<IPython.core.display.Markdown object>"
      ]
     },
     "metadata": {},
     "output_type": "display_data"
    },
    {
     "data": {
      "text/markdown": [
       "### Reading: <small>Garmin_20241403/DI_CONNECT/DI-Connect-Wellness/2021-06-19_2021-09-27_86607424_sleepData.json</small>"
      ],
      "text/plain": [
       "<IPython.core.display.Markdown object>"
      ]
     },
     "metadata": {},
     "output_type": "display_data"
    },
    {
     "data": {
      "text/markdown": [
       "### Reading: <small>Garmin_20241403/DI_CONNECT/DI-Connect-Wellness/86607424_userBioMetrics.json</small>"
      ],
      "text/plain": [
       "<IPython.core.display.Markdown object>"
      ]
     },
     "metadata": {},
     "output_type": "display_data"
    },
    {
     "data": {
      "text/markdown": [
       "### Reading: <small>Garmin_20241403/DI_CONNECT/DI-Connect-Wellness/86607424_MenstrualCycles.json</small>"
      ],
      "text/plain": [
       "<IPython.core.display.Markdown object>"
      ]
     },
     "metadata": {},
     "output_type": "display_data"
    },
    {
     "data": {
      "text/markdown": [
       "### Reading: <small>Garmin_20241403/DI_CONNECT/DI-Connect-Wellness/2020-12-01_2021-03-11_86607424_sleepData.json</small>"
      ],
      "text/plain": [
       "<IPython.core.display.Markdown object>"
      ]
     },
     "metadata": {},
     "output_type": "display_data"
    },
    {
     "data": {
      "text/markdown": [
       "### Reading: <small>Garmin_20241403/DI_CONNECT/DI-Connect-Wellness/86607424_heartRateZones.json</small>"
      ],
      "text/plain": [
       "<IPython.core.display.Markdown object>"
      ]
     },
     "metadata": {},
     "output_type": "display_data"
    },
    {
     "data": {
      "text/markdown": [
       "### Reading: <small>Garmin_20241403/DI_CONNECT/DI-Connect-User/UserGoal_2020-03-12_2020-06-20.json</small>"
      ],
      "text/plain": [
       "<IPython.core.display.Markdown object>"
      ]
     },
     "metadata": {},
     "output_type": "display_data"
    },
    {
     "data": {
      "text/markdown": [
       "### Reading: <small>Garmin_20241403/DI_CONNECT/DI-Connect-User/user_profile_suica.json</small>"
      ],
      "text/plain": [
       "<IPython.core.display.Markdown object>"
      ]
     },
     "metadata": {},
     "output_type": "display_data"
    },
    {
     "data": {
      "text/markdown": [
       "### Reading: <small>Garmin_20241403/DI_CONNECT/DI-Connect-User/user_reminders.json</small>"
      ],
      "text/plain": [
       "<IPython.core.display.Markdown object>"
      ]
     },
     "metadata": {},
     "output_type": "display_data"
    },
    {
     "data": {
      "text/markdown": [
       "### Reading: <small>Garmin_20241403/DI_CONNECT/DI-Connect-User/user_settings.json</small>"
      ],
      "text/plain": [
       "<IPython.core.display.Markdown object>"
      ]
     },
     "metadata": {},
     "output_type": "display_data"
    },
    {
     "data": {
      "text/markdown": [
       "**Error reading ../data/Garmin_20241403/DI_CONNECT/DI-Connect-User/user_settings.json: If using all scalar values, you must pass an index**"
      ],
      "text/plain": [
       "<IPython.core.display.Markdown object>"
      ]
     },
     "metadata": {},
     "output_type": "display_data"
    },
    {
     "data": {
      "text/markdown": [
       "### Reading: <small>Garmin_20241403/DI_CONNECT/DI-Connect-User/UserGoal_2021-01-06_2021-04-16.json</small>"
      ],
      "text/plain": [
       "<IPython.core.display.Markdown object>"
      ]
     },
     "metadata": {},
     "output_type": "display_data"
    },
    {
     "data": {
      "text/markdown": [
       "### Reading: <small>Garmin_20241403/DI_CONNECT/DI-Connect-User/GoalsFile.json</small>"
      ],
      "text/plain": [
       "<IPython.core.display.Markdown object>"
      ]
     },
     "metadata": {},
     "output_type": "display_data"
    },
    {
     "data": {
      "text/markdown": [
       "### Reading: <small>Garmin_20241403/DI_CONNECT/DI-Connect-User/UserGoal_2020-06-20_2020-09-28.json</small>"
      ],
      "text/plain": [
       "<IPython.core.display.Markdown object>"
      ]
     },
     "metadata": {},
     "output_type": "display_data"
    },
    {
     "data": {
      "text/markdown": [
       "### Reading: <small>Garmin_20241403/DI_CONNECT/DI-Connect-User/user_contact.json</small>"
      ],
      "text/plain": [
       "<IPython.core.display.Markdown object>"
      ]
     },
     "metadata": {},
     "output_type": "display_data"
    },
    {
     "data": {
      "text/markdown": [
       "### Reading: <small>Garmin_20241403/DI_CONNECT/DI-Connect-User/user_profile.json</small>"
      ],
      "text/plain": [
       "<IPython.core.display.Markdown object>"
      ]
     },
     "metadata": {},
     "output_type": "display_data"
    },
    {
     "data": {
      "text/markdown": [
       "**Error reading ../data/Garmin_20241403/DI_CONNECT/DI-Connect-User/user_profile.json: If using all scalar values, you must pass an index**"
      ],
      "text/plain": [
       "<IPython.core.display.Markdown object>"
      ]
     },
     "metadata": {},
     "output_type": "display_data"
    },
    {
     "data": {
      "text/markdown": [
       "### Reading: <small>Garmin_20241403/DI_CONNECT/DI-Connect-User/lenka@otap.dk-social-profile.json</small>"
      ],
      "text/plain": [
       "<IPython.core.display.Markdown object>"
      ]
     },
     "metadata": {},
     "output_type": "display_data"
    },
    {
     "data": {
      "text/markdown": [
       "### Reading: <small>Garmin_20241403/DI_CONNECT/DI-Connect-Social/lenka@otap.dk-likes.json</small>"
      ],
      "text/plain": [
       "<IPython.core.display.Markdown object>"
      ]
     },
     "metadata": {},
     "output_type": "display_data"
    },
    {
     "data": {
      "text/markdown": [
       "### Reading: <small>Garmin_20241403/DI_CONNECT/DI-GOLF/Golf-CLUB_TYPES.json</small>"
      ],
      "text/plain": [
       "<IPython.core.display.Markdown object>"
      ]
     },
     "metadata": {},
     "output_type": "display_data"
    },
    {
     "data": {
      "text/markdown": [
       "### Reading: <small>Garmin_20241403/DI_CONNECT/DI-GOLF/Golf-COMMENTS.json</small>"
      ],
      "text/plain": [
       "<IPython.core.display.Markdown object>"
      ]
     },
     "metadata": {},
     "output_type": "display_data"
    },
    {
     "data": {
      "text/markdown": [
       "**Error reading ../data/Garmin_20241403/DI_CONNECT/DI-GOLF/Golf-COMMENTS.json: If using all scalar values, you must pass an index**"
      ],
      "text/plain": [
       "<IPython.core.display.Markdown object>"
      ]
     },
     "metadata": {},
     "output_type": "display_data"
    },
    {
     "data": {
      "text/markdown": [
       "### Reading: <small>Garmin_20241403/DI_CONNECT/DI-GOLF/Golf-SHOT.json</small>"
      ],
      "text/plain": [
       "<IPython.core.display.Markdown object>"
      ]
     },
     "metadata": {},
     "output_type": "display_data"
    },
    {
     "data": {
      "text/markdown": [
       "**Error reading ../data/Garmin_20241403/DI_CONNECT/DI-GOLF/Golf-SHOT.json: If using all scalar values, you must pass an index**"
      ],
      "text/plain": [
       "<IPython.core.display.Markdown object>"
      ]
     },
     "metadata": {},
     "output_type": "display_data"
    },
    {
     "data": {
      "text/markdown": [
       "### Reading: <small>Garmin_20241403/DI_CONNECT/DI-GOLF/Golf-CLUB.json</small>"
      ],
      "text/plain": [
       "<IPython.core.display.Markdown object>"
      ]
     },
     "metadata": {},
     "output_type": "display_data"
    },
    {
     "data": {
      "text/markdown": [
       "### Reading: <small>Garmin_20241403/DI_CONNECT/DI-GOLF/Golf-SWING.json</small>"
      ],
      "text/plain": [
       "<IPython.core.display.Markdown object>"
      ]
     },
     "metadata": {},
     "output_type": "display_data"
    },
    {
     "data": {
      "text/markdown": [
       "**Error reading ../data/Garmin_20241403/DI_CONNECT/DI-GOLF/Golf-SWING.json: If using all scalar values, you must pass an index**"
      ],
      "text/plain": [
       "<IPython.core.display.Markdown object>"
      ]
     },
     "metadata": {},
     "output_type": "display_data"
    },
    {
     "data": {
      "text/markdown": [
       "### Reading: <small>Garmin_20241403/DI_CONNECT/DI-GOLF/Golf-SIM_SESSION.json</small>"
      ],
      "text/plain": [
       "<IPython.core.display.Markdown object>"
      ]
     },
     "metadata": {},
     "output_type": "display_data"
    },
    {
     "data": {
      "text/markdown": [
       "**Error reading ../data/Garmin_20241403/DI_CONNECT/DI-GOLF/Golf-SIM_SESSION.json: If using all scalar values, you must pass an index**"
      ],
      "text/plain": [
       "<IPython.core.display.Markdown object>"
      ]
     },
     "metadata": {},
     "output_type": "display_data"
    },
    {
     "data": {
      "text/markdown": [
       "### Reading: <small>Garmin_20241403/DI_CONNECT/DI-GOLF/Golf-COURSE.json</small>"
      ],
      "text/plain": [
       "<IPython.core.display.Markdown object>"
      ]
     },
     "metadata": {},
     "output_type": "display_data"
    },
    {
     "data": {
      "text/markdown": [
       "**Error reading ../data/Garmin_20241403/DI_CONNECT/DI-GOLF/Golf-COURSE.json: If using all scalar values, you must pass an index**"
      ],
      "text/plain": [
       "<IPython.core.display.Markdown object>"
      ]
     },
     "metadata": {},
     "output_type": "display_data"
    },
    {
     "data": {
      "text/markdown": [
       "### Reading: <small>Garmin_20241403/DI_CONNECT/DI-GOLF/Golf-SCORECARD.json</small>"
      ],
      "text/plain": [
       "<IPython.core.display.Markdown object>"
      ]
     },
     "metadata": {},
     "output_type": "display_data"
    },
    {
     "data": {
      "text/markdown": [
       "**Error reading ../data/Garmin_20241403/DI_CONNECT/DI-GOLF/Golf-SCORECARD.json: If using all scalar values, you must pass an index**"
      ],
      "text/plain": [
       "<IPython.core.display.Markdown object>"
      ]
     },
     "metadata": {},
     "output_type": "display_data"
    },
    {
     "data": {
      "text/markdown": [
       "### Reading: <small>Garmin_20241403/DI_CONNECT/DI-Connect-Fitness/lenka@otap.dk_2002_summarizedActivities.json</small>"
      ],
      "text/plain": [
       "<IPython.core.display.Markdown object>"
      ]
     },
     "metadata": {},
     "output_type": "display_data"
    },
    {
     "data": {
      "text/markdown": [
       "### Reading: <small>Garmin_20241403/DI_CONNECT/DI-Connect-Fitness/lenka@otap.dk_activityImages.json</small>"
      ],
      "text/plain": [
       "<IPython.core.display.Markdown object>"
      ]
     },
     "metadata": {},
     "output_type": "display_data"
    },
    {
     "data": {
      "text/markdown": [
       "### Reading: <small>Garmin_20241403/DI_CONNECT/DI-Connect-Fitness/lenka@otap.dk_3003_summarizedActivities.json</small>"
      ],
      "text/plain": [
       "<IPython.core.display.Markdown object>"
      ]
     },
     "metadata": {},
     "output_type": "display_data"
    },
    {
     "data": {
      "text/markdown": [
       "### Reading: <small>Garmin_20241403/DI_CONNECT/DI-Connect-Fitness/lenka@otap.dk_workout.json</small>"
      ],
      "text/plain": [
       "<IPython.core.display.Markdown object>"
      ]
     },
     "metadata": {},
     "output_type": "display_data"
    },
    {
     "data": {
      "text/markdown": [
       "### Reading: <small>Garmin_20241403/DI_CONNECT/DI-Connect-Fitness/lenka@otap.dk_0_summarizedActivities.json</small>"
      ],
      "text/plain": [
       "<IPython.core.display.Markdown object>"
      ]
     },
     "metadata": {},
     "output_type": "display_data"
    },
    {
     "data": {
      "text/markdown": [
       "### Reading: <small>Garmin_20241403/DI_CONNECT/DI-Connect-Fitness/lenka@otap.dk_personalRecord.json</small>"
      ],
      "text/plain": [
       "<IPython.core.display.Markdown object>"
      ]
     },
     "metadata": {},
     "output_type": "display_data"
    },
    {
     "data": {
      "text/markdown": [
       "### Reading: <small>Garmin_20241403/DI_CONNECT/DI-Connect-Fitness/lenka@otap.dk_1001_summarizedActivities.json</small>"
      ],
      "text/plain": [
       "<IPython.core.display.Markdown object>"
      ]
     },
     "metadata": {},
     "output_type": "display_data"
    },
    {
     "data": {
      "text/markdown": [
       "### Reading: <small>Garmin_20241403/DI_CONNECT/DI-Connect-Fitness/lenka@otap.dk_trainingPlan.json</small>"
      ],
      "text/plain": [
       "<IPython.core.display.Markdown object>"
      ]
     },
     "metadata": {},
     "output_type": "display_data"
    },
    {
     "data": {
      "text/markdown": [
       "### Reading: <small>Garmin_20241403/DI_CONNECT/DI-Connect-Fitness/lenka@otap.dk_gear.json</small>"
      ],
      "text/plain": [
       "<IPython.core.display.Markdown object>"
      ]
     },
     "metadata": {},
     "output_type": "display_data"
    },
    {
     "data": {
      "text/markdown": [
       "### Reading: <small>Garmin_20241403/DI_CONNECT/DI-Connect-Routing/lenka@otap.dk_courses_1710413659308.json</small>"
      ],
      "text/plain": [
       "<IPython.core.display.Markdown object>"
      ]
     },
     "metadata": {},
     "output_type": "display_data"
    },
    {
     "data": {
      "text/markdown": [
       "### Reading: <small>Garmin_20241403/DI_CONNECT/DI-Connect-Routing/lenka@otap.dk_courses_1710413660638.json</small>"
      ],
      "text/plain": [
       "<IPython.core.display.Markdown object>"
      ]
     },
     "metadata": {},
     "output_type": "display_data"
    },
    {
     "data": {
      "text/markdown": [
       "### Reading: <small>Garmin_20241403/IT_GLOBAL_EVENT/events.json</small>"
      ],
      "text/plain": [
       "<IPython.core.display.Markdown object>"
      ]
     },
     "metadata": {},
     "output_type": "display_data"
    },
    {
     "data": {
      "text/markdown": [
       "### Reading: <small>Garmin_20241403/customer_data/customer.json</small>"
      ],
      "text/plain": [
       "<IPython.core.display.Markdown object>"
      ]
     },
     "metadata": {},
     "output_type": "display_data"
    },
    {
     "data": {
      "text/markdown": [
       "**Error reading ../data/Garmin_20241403/customer_data/customer.json: Mixing dicts with non-Series may lead to ambiguous ordering.**"
      ],
      "text/plain": [
       "<IPython.core.display.Markdown object>"
      ]
     },
     "metadata": {},
     "output_type": "display_data"
    },
    {
     "data": {
      "text/plain": [
       "[Index(['key', 'referenceId', 'referenceType', 'correlationId', 'consentTypeId',\n",
       "        'state', 'locale', 'source', 'version', 'createdDate',\n",
       "        'consentCreatedDate', 'actorId', 'metadata'],\n",
       "       dtype='object'),\n",
       " Index(['deviceAndContentInfo'], dtype='object'),\n",
       " Index(['orderNumber', 'customerPONumber', 'emailAddress', 'orderType',\n",
       "        'orderStatus', 'orderDate', 'orderTotal', 'shippingAddress',\n",
       "        'billingAddress', 'lines'],\n",
       "       dtype='object'),\n",
       " Index(['userProfilePK', 'calendarDate', 'persistedTimestampGMT',\n",
       "        'timestampLocal', 'hydrationSource', 'valueInML', 'activityId',\n",
       "        'capped', 'estimatedSweatLossInML', 'duration'],\n",
       "       dtype='object'),\n",
       " Index(['userProfilePK', 'calendarDate', 'uuid', 'durationInMilliseconds',\n",
       "        'totalKilocalories', 'activeKilocalories', 'burnedKilocalories',\n",
       "        'remainingKilocalories', 'totalDistanceMeters', 'includesWellnessData',\n",
       "        'includesActivityData', 'includesCalorieConsumedData', 'allDayStress',\n",
       "        'version'],\n",
       "       dtype='object'),\n",
       " Index(['userProfilePK', 'calendarDate', 'uuid', 'durationInMilliseconds',\n",
       "        'totalKilocalories', 'activeKilocalories', 'burnedKilocalories',\n",
       "        'remainingKilocalories', 'totalDistanceMeters', 'includesWellnessData',\n",
       "        'includesActivityData', 'includesCalorieConsumedData', 'allDayStress',\n",
       "        'version'],\n",
       "       dtype='object'),\n",
       " Index(['userProfilePK', 'calendarDate', 'uuid', 'durationInMilliseconds',\n",
       "        'totalKilocalories', 'activeKilocalories', 'burnedKilocalories',\n",
       "        'remainingKilocalories', 'totalDistanceMeters', 'includesWellnessData',\n",
       "        'includesActivityData', 'includesCalorieConsumedData', 'allDayStress',\n",
       "        'version'],\n",
       "       dtype='object'),\n",
       " Index(['userProfilePK', 'calendarDate', 'persistedTimestampGMT',\n",
       "        'timestampLocal', 'hydrationSource', 'valueInML', 'activityId',\n",
       "        'capped', 'estimatedSweatLossInML', 'duration',\n",
       "        'measuredSweatLossInML'],\n",
       "       dtype='object'),\n",
       " Index(['userProfilePK', 'calendarDate', 'uuid', 'durationInMilliseconds',\n",
       "        'totalKilocalories', 'activeKilocalories', 'bmrKilocalories',\n",
       "        'wellnessKilocalories', 'remainingKilocalories',\n",
       "        'wellnessTotalKilocalories', 'wellnessActiveKilocalories',\n",
       "        'restingCaloriesFromActivity', 'totalSteps', 'dailyStepGoal',\n",
       "        'netCalorieGoal', 'totalDistanceMeters', 'wellnessDistanceMeters',\n",
       "        'wellnessStartTimeGmt', 'wellnessEndTimeGmt', 'wellnessStartTimeLocal',\n",
       "        'wellnessEndTimeLocal', 'highlyActiveSeconds', 'activeSeconds',\n",
       "        'moderateIntensityMinutes', 'vigorousIntensityMinutes',\n",
       "        'floorsAscendedInMeters', 'floorsDescendedInMeters',\n",
       "        'userIntensityMinutesGoal', 'userFloorsAscendedGoal', 'minHeartRate',\n",
       "        'maxHeartRate', 'restingHeartRate', 'currentDayRestingHeartRate',\n",
       "        'restingHeartRateTimestamp', 'includesWellnessData',\n",
       "        'includesActivityData', 'includesCalorieConsumedData',\n",
       "        'includesSingleMeasurement', 'includesContinuousMeasurement',\n",
       "        'includesAllDayPulseOx', 'includesSleepPulseOx', 'source',\n",
       "        'allDayStress', 'bodyBattery', 'minAvgHeartRate', 'maxAvgHeartRate',\n",
       "        'version', 'hydration', 'respiration'],\n",
       "       dtype='object'),\n",
       " Index(['userProfilePK', 'calendarDate', 'persistedTimestampGMT',\n",
       "        'timestampLocal', 'hydrationSource', 'valueInML', 'activityId',\n",
       "        'capped', 'estimatedSweatLossInML', 'duration',\n",
       "        'measuredSweatLossInML'],\n",
       "       dtype='object'),\n",
       " Index(['userProfilePK', 'calendarDate', 'persistedTimestampGMT',\n",
       "        'timestampLocal', 'hydrationSource', 'valueInML', 'activityId',\n",
       "        'capped', 'estimatedSweatLossInML', 'duration'],\n",
       "       dtype='object'),\n",
       " Index(['userProfilePK', 'calendarDate', 'persistedTimestampGMT',\n",
       "        'timestampLocal', 'hydrationSource', 'valueInML', 'activityId',\n",
       "        'capped', 'estimatedSweatLossInML', 'duration', 'uuid'],\n",
       "       dtype='object'),\n",
       " Index(['userProfilePK', 'calendarDate', 'uuid', 'durationInMilliseconds',\n",
       "        'totalKilocalories', 'activeKilocalories', 'bmrKilocalories',\n",
       "        'wellnessKilocalories', 'remainingKilocalories',\n",
       "        'wellnessTotalKilocalories', 'wellnessActiveKilocalories',\n",
       "        'restingCaloriesFromActivity', 'totalSteps', 'dailyStepGoal',\n",
       "        'netCalorieGoal', 'totalDistanceMeters', 'wellnessDistanceMeters',\n",
       "        'wellnessStartTimeGmt', 'wellnessEndTimeGmt', 'wellnessStartTimeLocal',\n",
       "        'wellnessEndTimeLocal', 'highlyActiveSeconds', 'activeSeconds',\n",
       "        'moderateIntensityMinutes', 'vigorousIntensityMinutes',\n",
       "        'floorsAscendedInMeters', 'floorsDescendedInMeters',\n",
       "        'userIntensityMinutesGoal', 'userFloorsAscendedGoal', 'minHeartRate',\n",
       "        'maxHeartRate', 'restingHeartRate', 'currentDayRestingHeartRate',\n",
       "        'restingHeartRateTimestamp', 'includesWellnessData',\n",
       "        'includesActivityData', 'includesCalorieConsumedData',\n",
       "        'includesSingleMeasurement', 'includesContinuousMeasurement',\n",
       "        'includesAllDayPulseOx', 'includesSleepPulseOx', 'source',\n",
       "        'allDayStress', 'bodyBattery', 'minAvgHeartRate', 'maxAvgHeartRate',\n",
       "        'version', 'hydration', 'respiration'],\n",
       "       dtype='object'),\n",
       " Index(['userProfilePK', 'calendarDate', 'uuid', 'durationInMilliseconds',\n",
       "        'totalKilocalories', 'activeKilocalories', 'bmrKilocalories',\n",
       "        'wellnessKilocalories', 'remainingKilocalories',\n",
       "        'wellnessTotalKilocalories', 'wellnessActiveKilocalories',\n",
       "        'restingCaloriesFromActivity', 'totalSteps', 'dailyStepGoal',\n",
       "        'netCalorieGoal', 'totalDistanceMeters', 'wellnessDistanceMeters',\n",
       "        'wellnessStartTimeGmt', 'wellnessEndTimeGmt', 'wellnessStartTimeLocal',\n",
       "        'wellnessEndTimeLocal', 'highlyActiveSeconds', 'activeSeconds',\n",
       "        'moderateIntensityMinutes', 'vigorousIntensityMinutes',\n",
       "        'floorsAscendedInMeters', 'floorsDescendedInMeters',\n",
       "        'userIntensityMinutesGoal', 'userFloorsAscendedGoal', 'minHeartRate',\n",
       "        'maxHeartRate', 'restingHeartRate', 'currentDayRestingHeartRate',\n",
       "        'restingHeartRateTimestamp', 'includesWellnessData',\n",
       "        'includesActivityData', 'includesCalorieConsumedData',\n",
       "        'includesSingleMeasurement', 'includesContinuousMeasurement',\n",
       "        'includesAllDayPulseOx', 'includesSleepPulseOx', 'source',\n",
       "        'allDayStress', 'bodyBattery', 'minAvgHeartRate', 'maxAvgHeartRate',\n",
       "        'version', 'hydration', 'respiration'],\n",
       "       dtype='object'),\n",
       " Index(['userProfilePK', 'calendarDate', 'persistedTimestampGMT',\n",
       "        'timestampLocal', 'hydrationSource', 'valueInML', 'activityId',\n",
       "        'capped', 'estimatedSweatLossInML', 'duration'],\n",
       "       dtype='object'),\n",
       " Index(['userProfilePK', 'calendarDate', 'persistedTimestampGMT',\n",
       "        'timestampLocal', 'hydrationSource', 'valueInML', 'activityId',\n",
       "        'capped', 'estimatedSweatLossInML', 'duration',\n",
       "        'measuredSweatLossInML'],\n",
       "       dtype='object'),\n",
       " Index(['userProfilePK', 'calendarDate', 'persistedTimestampGMT',\n",
       "        'timestampLocal', 'hydrationSource', 'valueInML', 'activityId',\n",
       "        'capped', 'estimatedSweatLossInML', 'duration', 'uuid'],\n",
       "       dtype='object'),\n",
       " Index(['userProfilePK', 'calendarDate', 'uuid', 'durationInMilliseconds',\n",
       "        'consumedKilocalories', 'remainingKilocalories',\n",
       "        'includesCalorieConsumedData', 'allDayStress', 'version'],\n",
       "       dtype='object'),\n",
       " Index(['userProfilePK', 'calendarDate', 'persistedTimestampGMT',\n",
       "        'timestampLocal', 'hydrationSource', 'valueInML', 'activityId',\n",
       "        'capped', 'estimatedSweatLossInML', 'duration', 'uuid'],\n",
       "       dtype='object'),\n",
       " Index(['userProfilePK', 'calendarDate', 'uuid', 'durationInMilliseconds',\n",
       "        'totalKilocalories', 'activeKilocalories', 'burnedKilocalories',\n",
       "        'remainingKilocalories', 'totalDistanceMeters', 'includesWellnessData',\n",
       "        'includesActivityData', 'includesCalorieConsumedData', 'allDayStress',\n",
       "        'version'],\n",
       "       dtype='object'),\n",
       " Index(['userProfilePK', 'calendarDate', 'uuid', 'durationInMilliseconds',\n",
       "        'totalKilocalories', 'activeKilocalories', 'burnedKilocalories',\n",
       "        'remainingKilocalories', 'totalDistanceMeters', 'includesWellnessData',\n",
       "        'includesActivityData', 'includesCalorieConsumedData', 'allDayStress',\n",
       "        'version'],\n",
       "       dtype='object'),\n",
       " Index(['userProfilePK', 'calendarDate', 'persistedTimestampGMT',\n",
       "        'timestampLocal', 'hydrationSource', 'valueInML', 'activityId',\n",
       "        'capped', 'estimatedSweatLossInML', 'duration', 'uuid'],\n",
       "       dtype='object'),\n",
       " Index(['userProfilePK', 'calendarDate', 'persistedTimestampGMT',\n",
       "        'timestampLocal', 'hydrationSource', 'valueInML', 'activityId',\n",
       "        'capped', 'estimatedSweatLossInML', 'duration', 'uuid',\n",
       "        'measuredSweatLossInML'],\n",
       "       dtype='object'),\n",
       " Index(['userProfilePK', 'calendarDate', 'uuid', 'durationInMilliseconds',\n",
       "        'totalKilocalories', 'activeKilocalories', 'bmrKilocalories',\n",
       "        'wellnessKilocalories', 'remainingKilocalories',\n",
       "        'wellnessTotalKilocalories', 'wellnessActiveKilocalories', 'totalSteps',\n",
       "        'dailyStepGoal', 'netCalorieGoal', 'totalDistanceMeters',\n",
       "        'wellnessDistanceMeters', 'wellnessStartTimeGmt', 'wellnessEndTimeGmt',\n",
       "        'wellnessStartTimeLocal', 'wellnessEndTimeLocal', 'highlyActiveSeconds',\n",
       "        'activeSeconds', 'moderateIntensityMinutes', 'vigorousIntensityMinutes',\n",
       "        'floorsAscendedInMeters', 'floorsDescendedInMeters',\n",
       "        'userIntensityMinutesGoal', 'userFloorsAscendedGoal', 'minHeartRate',\n",
       "        'maxHeartRate', 'restingHeartRate', 'currentDayRestingHeartRate',\n",
       "        'restingHeartRateTimestamp', 'includesWellnessData',\n",
       "        'includesActivityData', 'includesCalorieConsumedData',\n",
       "        'includesSingleMeasurement', 'includesContinuousMeasurement',\n",
       "        'includesAllDayPulseOx', 'includesSleepPulseOx', 'source',\n",
       "        'allDayStress', 'bodyBattery', 'minAvgHeartRate', 'maxAvgHeartRate',\n",
       "        'version', 'averageSpo2Value', 'lowestSpo2Value', 'latestSpo2Value',\n",
       "        'latestSpo2ValueReadingTimeGmt', 'latestSpo2ValueReadingTimeLocal',\n",
       "        'hydration', 'respiration', 'consumedKilocalories',\n",
       "        'dailyTotalFromEpochData'],\n",
       "       dtype='object'),\n",
       " Index(['userProfilePK', 'calendarDate', 'uuid', 'durationInMilliseconds',\n",
       "        'totalKilocalories', 'activeKilocalories', 'burnedKilocalories',\n",
       "        'remainingKilocalories', 'totalDistanceMeters', 'includesWellnessData',\n",
       "        'includesActivityData', 'includesCalorieConsumedData', 'allDayStress',\n",
       "        'version'],\n",
       "       dtype='object'),\n",
       " Index(['userProfilePK', 'calendarDate', 'uuid', 'durationInMilliseconds',\n",
       "        'totalKilocalories', 'activeKilocalories', 'bmrKilocalories',\n",
       "        'wellnessKilocalories', 'remainingKilocalories',\n",
       "        'wellnessTotalKilocalories', 'wellnessActiveKilocalories', 'totalSteps',\n",
       "        'dailyStepGoal', 'netCalorieGoal', 'totalDistanceMeters',\n",
       "        'wellnessDistanceMeters', 'wellnessStartTimeGmt', 'wellnessEndTimeGmt',\n",
       "        'wellnessStartTimeLocal', 'wellnessEndTimeLocal', 'highlyActiveSeconds',\n",
       "        'activeSeconds', 'moderateIntensityMinutes', 'vigorousIntensityMinutes',\n",
       "        'floorsAscendedInMeters', 'floorsDescendedInMeters',\n",
       "        'userIntensityMinutesGoal', 'userFloorsAscendedGoal', 'minHeartRate',\n",
       "        'maxHeartRate', 'restingHeartRate', 'currentDayRestingHeartRate',\n",
       "        'restingHeartRateTimestamp', 'includesWellnessData',\n",
       "        'includesActivityData', 'includesCalorieConsumedData',\n",
       "        'includesSingleMeasurement', 'includesContinuousMeasurement',\n",
       "        'includesAllDayPulseOx', 'includesSleepPulseOx', 'source',\n",
       "        'allDayStress', 'bodyBattery', 'minAvgHeartRate', 'maxAvgHeartRate',\n",
       "        'version', 'averageSpo2Value', 'lowestSpo2Value', 'latestSpo2Value',\n",
       "        'latestSpo2ValueReadingTimeGmt', 'latestSpo2ValueReadingTimeLocal',\n",
       "        'hydration', 'respiration', 'restingCaloriesFromActivity',\n",
       "        'dailyTotalFromEpochData'],\n",
       "       dtype='object'),\n",
       " Index(['userProfilePK', 'calendarDate', 'persistedTimestampGMT',\n",
       "        'timestampLocal', 'hydrationSource', 'valueInML', 'activityId',\n",
       "        'capped', 'estimatedSweatLossInML', 'duration', 'uuid',\n",
       "        'measuredSweatLossInML'],\n",
       "       dtype='object'),\n",
       " Index(['userProfilePK', 'calendarDate', 'persistedTimestampGMT',\n",
       "        'timestampLocal', 'hydrationSource', 'valueInML', 'activityId',\n",
       "        'capped', 'estimatedSweatLossInML', 'duration'],\n",
       "       dtype='object'),\n",
       " Index(['userProfilePK', 'calendarDate', 'persistedTimestampGMT',\n",
       "        'timestampLocal', 'hydrationSource', 'valueInML', 'activityId',\n",
       "        'capped', 'estimatedSweatLossInML', 'duration', 'uuid'],\n",
       "       dtype='object'),\n",
       " Index(['userProfilePK', 'calendarDate', 'uuid', 'durationInMilliseconds',\n",
       "        'totalKilocalories', 'activeKilocalories', 'bmrKilocalories',\n",
       "        'wellnessKilocalories', 'consumedKilocalories', 'remainingKilocalories',\n",
       "        'wellnessTotalKilocalories', 'wellnessActiveKilocalories', 'totalSteps',\n",
       "        'dailyStepGoal', 'netCalorieGoal', 'totalDistanceMeters',\n",
       "        'wellnessDistanceMeters', 'wellnessStartTimeGmt', 'wellnessEndTimeGmt',\n",
       "        'wellnessStartTimeLocal', 'wellnessEndTimeLocal', 'highlyActiveSeconds',\n",
       "        'activeSeconds', 'moderateIntensityMinutes', 'vigorousIntensityMinutes',\n",
       "        'floorsAscendedInMeters', 'floorsDescendedInMeters',\n",
       "        'userIntensityMinutesGoal', 'userFloorsAscendedGoal', 'minHeartRate',\n",
       "        'maxHeartRate', 'restingHeartRate', 'currentDayRestingHeartRate',\n",
       "        'restingHeartRateTimestamp', 'includesWellnessData',\n",
       "        'includesActivityData', 'includesCalorieConsumedData',\n",
       "        'includesSingleMeasurement', 'includesContinuousMeasurement',\n",
       "        'includesAllDayPulseOx', 'includesSleepPulseOx', 'source',\n",
       "        'allDayStress', 'bodyBattery', 'minAvgHeartRate', 'maxAvgHeartRate',\n",
       "        'version', 'averageSpo2Value', 'lowestSpo2Value', 'latestSpo2Value',\n",
       "        'latestSpo2ValueReadingTimeGmt', 'latestSpo2ValueReadingTimeLocal',\n",
       "        'hydration', 'respiration'],\n",
       "       dtype='object'),\n",
       " Index(['userProfilePK', 'calendarDate', 'uuid', 'durationInMilliseconds',\n",
       "        'totalKilocalories', 'activeKilocalories', 'bmrKilocalories',\n",
       "        'wellnessKilocalories', 'remainingKilocalories',\n",
       "        'wellnessTotalKilocalories', 'wellnessActiveKilocalories',\n",
       "        'restingCaloriesFromActivity', 'totalSteps', 'dailyStepGoal',\n",
       "        'netCalorieGoal', 'totalDistanceMeters', 'wellnessDistanceMeters',\n",
       "        'wellnessStartTimeGmt', 'wellnessEndTimeGmt', 'wellnessStartTimeLocal',\n",
       "        'wellnessEndTimeLocal', 'highlyActiveSeconds', 'activeSeconds',\n",
       "        'moderateIntensityMinutes', 'vigorousIntensityMinutes',\n",
       "        'floorsAscendedInMeters', 'floorsDescendedInMeters',\n",
       "        'userIntensityMinutesGoal', 'userFloorsAscendedGoal', 'minHeartRate',\n",
       "        'maxHeartRate', 'restingHeartRate', 'currentDayRestingHeartRate',\n",
       "        'restingHeartRateTimestamp', 'includesWellnessData',\n",
       "        'includesActivityData', 'includesCalorieConsumedData',\n",
       "        'includesSingleMeasurement', 'includesContinuousMeasurement',\n",
       "        'includesAllDayPulseOx', 'includesSleepPulseOx', 'source',\n",
       "        'allDayStress', 'bodyBattery', 'minAvgHeartRate', 'maxAvgHeartRate',\n",
       "        'version', 'hydration', 'respiration'],\n",
       "       dtype='object'),\n",
       " Index(['userProfilePK', 'calendarDate', 'uuid', 'durationInMilliseconds',\n",
       "        'totalKilocalories', 'activeKilocalories', 'bmrKilocalories',\n",
       "        'wellnessKilocalories', 'remainingKilocalories',\n",
       "        'wellnessTotalKilocalories', 'wellnessActiveKilocalories',\n",
       "        'restingCaloriesFromActivity', 'totalSteps', 'dailyStepGoal',\n",
       "        'netCalorieGoal', 'totalDistanceMeters', 'wellnessDistanceMeters',\n",
       "        'wellnessStartTimeGmt', 'wellnessEndTimeGmt', 'wellnessStartTimeLocal',\n",
       "        'wellnessEndTimeLocal', 'highlyActiveSeconds', 'activeSeconds',\n",
       "        'moderateIntensityMinutes', 'vigorousIntensityMinutes',\n",
       "        'floorsAscendedInMeters', 'floorsDescendedInMeters',\n",
       "        'userIntensityMinutesGoal', 'userFloorsAscendedGoal', 'minHeartRate',\n",
       "        'maxHeartRate', 'restingHeartRate', 'currentDayRestingHeartRate',\n",
       "        'restingHeartRateTimestamp', 'includesWellnessData',\n",
       "        'includesActivityData', 'includesCalorieConsumedData',\n",
       "        'includesSingleMeasurement', 'includesContinuousMeasurement',\n",
       "        'includesAllDayPulseOx', 'includesSleepPulseOx', 'source',\n",
       "        'allDayStress', 'bodyBattery', 'minAvgHeartRate', 'maxAvgHeartRate',\n",
       "        'version', 'respiration', 'hydration', 'isVigorousDay'],\n",
       "       dtype='object'),\n",
       " Index(['userProfilePK', 'calendarDate', 'uuid', 'durationInMilliseconds',\n",
       "        'totalKilocalories', 'activeKilocalories', 'bmrKilocalories',\n",
       "        'wellnessKilocalories', 'remainingKilocalories',\n",
       "        'wellnessTotalKilocalories', 'wellnessActiveKilocalories', 'totalSteps',\n",
       "        'dailyStepGoal', 'totalDistanceMeters', 'wellnessDistanceMeters',\n",
       "        'wellnessStartTimeGmt', 'wellnessEndTimeGmt', 'wellnessStartTimeLocal',\n",
       "        'wellnessEndTimeLocal', 'highlyActiveSeconds', 'activeSeconds',\n",
       "        'moderateIntensityMinutes', 'vigorousIntensityMinutes',\n",
       "        'floorsAscendedInMeters', 'floorsDescendedInMeters',\n",
       "        'userIntensityMinutesGoal', 'userFloorsAscendedGoal', 'minHeartRate',\n",
       "        'maxHeartRate', 'restingHeartRate', 'currentDayRestingHeartRate',\n",
       "        'restingHeartRateTimestamp', 'includesWellnessData',\n",
       "        'includesActivityData', 'includesCalorieConsumedData',\n",
       "        'includesSingleMeasurement', 'includesContinuousMeasurement',\n",
       "        'includesAllDayPulseOx', 'includesSleepPulseOx', 'source',\n",
       "        'allDayStress', 'bodyBattery', 'minAvgHeartRate', 'maxAvgHeartRate',\n",
       "        'version', 'lowestSpo2Value', 'latestSpo2Value',\n",
       "        'latestSpo2ValueReadingTimeGmt', 'latestSpo2ValueReadingTimeLocal',\n",
       "        'hydration', 'respiration', 'averageSpo2Value', 'consumedKilocalories',\n",
       "        'netCalorieGoal', 'dailyTotalFromEpochData'],\n",
       "       dtype='object'),\n",
       " Index(['userProfilePK', 'calendarDate', 'uuid', 'durationInMilliseconds',\n",
       "        'totalKilocalories', 'activeKilocalories', 'bmrKilocalories',\n",
       "        'wellnessKilocalories', 'remainingKilocalories',\n",
       "        'wellnessTotalKilocalories', 'wellnessActiveKilocalories',\n",
       "        'restingCaloriesFromActivity', 'totalSteps', 'dailyStepGoal',\n",
       "        'netCalorieGoal', 'totalDistanceMeters', 'wellnessDistanceMeters',\n",
       "        'wellnessStartTimeGmt', 'wellnessEndTimeGmt', 'wellnessStartTimeLocal',\n",
       "        'wellnessEndTimeLocal', 'highlyActiveSeconds', 'activeSeconds',\n",
       "        'moderateIntensityMinutes', 'vigorousIntensityMinutes',\n",
       "        'floorsAscendedInMeters', 'floorsDescendedInMeters',\n",
       "        'userIntensityMinutesGoal', 'userFloorsAscendedGoal', 'minHeartRate',\n",
       "        'maxHeartRate', 'restingHeartRate', 'currentDayRestingHeartRate',\n",
       "        'restingHeartRateTimestamp', 'includesWellnessData',\n",
       "        'includesActivityData', 'includesCalorieConsumedData',\n",
       "        'includesSingleMeasurement', 'includesContinuousMeasurement',\n",
       "        'includesAllDayPulseOx', 'includesSleepPulseOx', 'source',\n",
       "        'allDayStress', 'bodyBattery', 'minAvgHeartRate', 'maxAvgHeartRate',\n",
       "        'version', 'hydration', 'respiration', 'consumedKilocalories'],\n",
       "       dtype='object'),\n",
       " Index(['userProfilePK', 'calendarDate', 'uuid', 'durationInMilliseconds',\n",
       "        'totalKilocalories', 'activeKilocalories', 'bmrKilocalories',\n",
       "        'wellnessKilocalories', 'remainingKilocalories',\n",
       "        'wellnessTotalKilocalories', 'wellnessActiveKilocalories', 'totalSteps',\n",
       "        'dailyStepGoal', 'netCalorieGoal', 'totalDistanceMeters',\n",
       "        'wellnessDistanceMeters', 'wellnessStartTimeGmt', 'wellnessEndTimeGmt',\n",
       "        'wellnessStartTimeLocal', 'wellnessEndTimeLocal', 'highlyActiveSeconds',\n",
       "        'activeSeconds', 'moderateIntensityMinutes', 'vigorousIntensityMinutes',\n",
       "        'floorsAscendedInMeters', 'floorsDescendedInMeters',\n",
       "        'userIntensityMinutesGoal', 'userFloorsAscendedGoal', 'minHeartRate',\n",
       "        'maxHeartRate', 'restingHeartRate', 'currentDayRestingHeartRate',\n",
       "        'restingHeartRateTimestamp', 'includesWellnessData',\n",
       "        'includesActivityData', 'includesCalorieConsumedData',\n",
       "        'includesSingleMeasurement', 'includesContinuousMeasurement',\n",
       "        'includesAllDayPulseOx', 'includesSleepPulseOx', 'source',\n",
       "        'allDayStress', 'bodyBattery', 'minAvgHeartRate', 'maxAvgHeartRate',\n",
       "        'version', 'averageSpo2Value', 'lowestSpo2Value', 'latestSpo2Value',\n",
       "        'latestSpo2ValueReadingTimeGmt', 'latestSpo2ValueReadingTimeLocal',\n",
       "        'hydration', 'respiration', 'consumedKilocalories'],\n",
       "       dtype='object'),\n",
       " Index(['userProfilePK', 'calendarDate', 'uuid', 'durationInMilliseconds',\n",
       "        'totalKilocalories', 'activeKilocalories', 'burnedKilocalories',\n",
       "        'remainingKilocalories', 'totalDistanceMeters', 'includesWellnessData',\n",
       "        'includesActivityData', 'includesCalorieConsumedData', 'allDayStress',\n",
       "        'version'],\n",
       "       dtype='object'),\n",
       " Index(['userProfilePK', 'calendarDate', 'uuid', 'durationInMilliseconds',\n",
       "        'totalKilocalories', 'activeKilocalories', 'bmrKilocalories',\n",
       "        'wellnessKilocalories', 'consumedKilocalories', 'remainingKilocalories',\n",
       "        'wellnessTotalKilocalories', 'wellnessActiveKilocalories', 'totalSteps',\n",
       "        'dailyStepGoal', 'netCalorieGoal', 'totalDistanceMeters',\n",
       "        'wellnessDistanceMeters', 'wellnessStartTimeGmt', 'wellnessEndTimeGmt',\n",
       "        'wellnessStartTimeLocal', 'wellnessEndTimeLocal', 'highlyActiveSeconds',\n",
       "        'activeSeconds', 'moderateIntensityMinutes', 'vigorousIntensityMinutes',\n",
       "        'floorsAscendedInMeters', 'floorsDescendedInMeters',\n",
       "        'userIntensityMinutesGoal', 'userFloorsAscendedGoal', 'minHeartRate',\n",
       "        'maxHeartRate', 'restingHeartRate', 'currentDayRestingHeartRate',\n",
       "        'restingHeartRateTimestamp', 'includesWellnessData',\n",
       "        'includesActivityData', 'includesCalorieConsumedData',\n",
       "        'includesSingleMeasurement', 'includesContinuousMeasurement',\n",
       "        'includesAllDayPulseOx', 'includesSleepPulseOx', 'source',\n",
       "        'allDayStress', 'bodyBattery', 'minAvgHeartRate', 'maxAvgHeartRate',\n",
       "        'version', 'averageSpo2Value', 'lowestSpo2Value', 'latestSpo2Value',\n",
       "        'latestSpo2ValueReadingTimeGmt', 'latestSpo2ValueReadingTimeLocal',\n",
       "        'hydration', 'respiration'],\n",
       "       dtype='object'),\n",
       " Index(['userProfilePK', 'calendarDate', 'uuid', 'durationInMilliseconds',\n",
       "        'totalKilocalories', 'activeKilocalories', 'bmrKilocalories',\n",
       "        'wellnessKilocalories', 'remainingKilocalories',\n",
       "        'wellnessTotalKilocalories', 'wellnessActiveKilocalories',\n",
       "        'restingCaloriesFromActivity', 'totalSteps', 'dailyStepGoal',\n",
       "        'netCalorieGoal', 'totalDistanceMeters', 'wellnessDistanceMeters',\n",
       "        'wellnessStartTimeGmt', 'wellnessEndTimeGmt', 'wellnessStartTimeLocal',\n",
       "        'wellnessEndTimeLocal', 'highlyActiveSeconds', 'activeSeconds',\n",
       "        'moderateIntensityMinutes', 'vigorousIntensityMinutes',\n",
       "        'floorsAscendedInMeters', 'floorsDescendedInMeters',\n",
       "        'userIntensityMinutesGoal', 'userFloorsAscendedGoal', 'minHeartRate',\n",
       "        'maxHeartRate', 'restingHeartRate', 'currentDayRestingHeartRate',\n",
       "        'restingHeartRateTimestamp', 'includesWellnessData',\n",
       "        'includesActivityData', 'includesCalorieConsumedData',\n",
       "        'includesSingleMeasurement', 'includesContinuousMeasurement',\n",
       "        'includesAllDayPulseOx', 'includesSleepPulseOx', 'source',\n",
       "        'allDayStress', 'bodyBattery', 'minAvgHeartRate', 'maxAvgHeartRate',\n",
       "        'version', 'hydration', 'respiration'],\n",
       "       dtype='object'),\n",
       " Index(['userProfilePK', 'calendarDate', 'uuid', 'durationInMilliseconds',\n",
       "        'totalKilocalories', 'activeKilocalories', 'bmrKilocalories',\n",
       "        'wellnessKilocalories', 'remainingKilocalories',\n",
       "        'wellnessTotalKilocalories', 'wellnessActiveKilocalories', 'totalSteps',\n",
       "        'dailyStepGoal', 'netCalorieGoal', 'totalDistanceMeters',\n",
       "        'wellnessDistanceMeters', 'wellnessStartTimeGmt', 'wellnessEndTimeGmt',\n",
       "        'wellnessStartTimeLocal', 'wellnessEndTimeLocal', 'highlyActiveSeconds',\n",
       "        'activeSeconds', 'moderateIntensityMinutes', 'vigorousIntensityMinutes',\n",
       "        'floorsAscendedInMeters', 'floorsDescendedInMeters',\n",
       "        'userIntensityMinutesGoal', 'userFloorsAscendedGoal', 'minHeartRate',\n",
       "        'maxHeartRate', 'restingHeartRate', 'currentDayRestingHeartRate',\n",
       "        'restingHeartRateTimestamp', 'includesWellnessData',\n",
       "        'includesActivityData', 'includesCalorieConsumedData',\n",
       "        'includesSingleMeasurement', 'includesContinuousMeasurement',\n",
       "        'includesAllDayPulseOx', 'includesSleepPulseOx', 'source',\n",
       "        'allDayStress', 'bodyBattery', 'minAvgHeartRate', 'maxAvgHeartRate',\n",
       "        'version', 'averageSpo2Value', 'lowestSpo2Value', 'latestSpo2Value',\n",
       "        'latestSpo2ValueReadingTimeGmt', 'latestSpo2ValueReadingTimeLocal',\n",
       "        'hydration', 'respiration', 'consumedKilocalories'],\n",
       "       dtype='object'),\n",
       " Index(['userProfilePK', 'calendarDate', 'deviceId', 'updateTimestamp', 'sport',\n",
       "        'subSport', 'vo2MaxValue', 'fitnessAge', 'fitnessAgeDescription',\n",
       "        'analyzerMethod', 'maxMet', 'maxMetCategory', 'calibratedData'],\n",
       "       dtype='object'),\n",
       " Index(['userProfilePK', 'calendarDate', 'deviceId', 'updateTimestamp', 'sport',\n",
       "        'subSport', 'vo2MaxValue', 'fitnessAge', 'fitnessAgeDescription',\n",
       "        'analyzerMethod', 'maxMet', 'maxMetCategory', 'calibratedData'],\n",
       "       dtype='object'),\n",
       " Index(['userProfilePK', 'calendarDate', 'deviceId', 'updateTimestamp', 'sport',\n",
       "        'subSport', 'vo2MaxValue', 'fitnessAge', 'fitnessAgeDescription',\n",
       "        'analyzerMethod', 'maxMet', 'maxMetCategory', 'calibratedData'],\n",
       "       dtype='object'),\n",
       " Index(['userProfilePK', 'calendarDate', 'deviceId', 'updateTimestamp', 'sport',\n",
       "        'subSport', 'vo2MaxValue', 'fitnessAge', 'fitnessAgeDescription',\n",
       "        'analyzerMethod', 'maxMet', 'maxMetCategory', 'calibratedData'],\n",
       "       dtype='object'),\n",
       " Index(['userProfilePK', 'calendarDate', 'deviceId', 'updateTimestamp', 'sport',\n",
       "        'subSport', 'vo2MaxValue', 'fitnessAge', 'fitnessAgeDescription',\n",
       "        'analyzerMethod', 'maxMet', 'maxMetCategory', 'calibratedData'],\n",
       "       dtype='object'),\n",
       " Index(['userProfilePK', 'calendarDate', 'deviceId', 'updateTimestamp', 'sport',\n",
       "        'subSport', 'vo2MaxValue', 'fitnessAge', 'fitnessAgeDescription',\n",
       "        'analyzerMethod', 'maxMet', 'maxMetCategory', 'calibratedData'],\n",
       "       dtype='object'),\n",
       " Index(['userProfilePK', 'calendarDate', 'deviceId', 'updateTimestamp', 'sport',\n",
       "        'subSport', 'vo2MaxValue', 'fitnessAge', 'fitnessAgeDescription',\n",
       "        'analyzerMethod', 'maxMet', 'maxMetCategory', 'calibratedData'],\n",
       "       dtype='object'),\n",
       " Index(['userProfilePK', 'calendarDate', 'deviceId', 'updateTimestamp', 'sport',\n",
       "        'subSport', 'vo2MaxValue', 'fitnessAge', 'fitnessAgeDescription',\n",
       "        'analyzerMethod', 'maxMet', 'maxMetCategory', 'calibratedData'],\n",
       "       dtype='object'),\n",
       " Index(['userProfilePK', 'calendarDate', 'deviceId', 'updateTimestamp', 'sport',\n",
       "        'subSport', 'vo2MaxValue', 'fitnessAge', 'fitnessAgeDescription',\n",
       "        'analyzerMethod', 'maxMet', 'maxMetCategory', 'calibratedData'],\n",
       "       dtype='object'),\n",
       " Index(['userProfilePK', 'calendarDate', 'deviceId', 'updateTimestamp', 'sport',\n",
       "        'subSport', 'vo2MaxValue', 'fitnessAge', 'fitnessAgeDescription',\n",
       "        'analyzerMethod', 'maxMet', 'maxMetCategory', 'calibratedData'],\n",
       "       dtype='object'),\n",
       " Index(['userProfilePK', 'calendarDate', 'deviceId', 'updateTimestamp', 'sport',\n",
       "        'subSport', 'vo2MaxValue', 'fitnessAge', 'fitnessAgeDescription',\n",
       "        'analyzerMethod', 'maxMet', 'maxMetCategory', 'calibratedData'],\n",
       "       dtype='object'),\n",
       " Index(['userProfilePK', 'calendarDate', 'deviceId', 'updateTimestamp', 'sport',\n",
       "        'subSport', 'vo2MaxValue', 'fitnessAge', 'fitnessAgeDescription',\n",
       "        'analyzerMethod', 'maxMet', 'maxMetCategory', 'calibratedData'],\n",
       "       dtype='object'),\n",
       " Index(['userProfilePK', 'calendarDate', 'deviceId', 'updateTimestamp', 'sport',\n",
       "        'subSport', 'vo2MaxValue', 'fitnessAge', 'fitnessAgeDescription',\n",
       "        'analyzerMethod', 'maxMet', 'maxMetCategory', 'calibratedData'],\n",
       "       dtype='object'),\n",
       " Index(['userProfilePK', 'calendarDate', 'deviceId', 'updateTimestamp', 'sport',\n",
       "        'subSport', 'vo2MaxValue', 'fitnessAge', 'fitnessAgeDescription',\n",
       "        'analyzerMethod', 'maxMet', 'maxMetCategory', 'calibratedData'],\n",
       "       dtype='object'),\n",
       " Index(['pauseStartDate', 'pauseEndDate', 'pauseReason'], dtype='object'),\n",
       " Index(['sleepStartTimestampGMT', 'sleepEndTimestampGMT', 'calendarDate',\n",
       "        'sleepWindowConfirmationType', 'retro', 'deepSleepSeconds',\n",
       "        'lightSleepSeconds', 'remSleepSeconds', 'awakeSleepSeconds',\n",
       "        'unmeasurableSeconds', 'averageRespiration', 'lowestRespiration',\n",
       "        'highestRespiration', 'spo2SleepSummary'],\n",
       "       dtype='object'),\n",
       " Index([], dtype='float64'),\n",
       " Index(['sleepStartTimestampGMT', 'sleepEndTimestampGMT', 'calendarDate',\n",
       "        'sleepWindowConfirmationType', 'deepSleepSeconds', 'lightSleepSeconds',\n",
       "        'remSleepSeconds', 'awakeSleepSeconds', 'unmeasurableSeconds',\n",
       "        'averageRespiration', 'lowestRespiration', 'highestRespiration',\n",
       "        'retro'],\n",
       "       dtype='object'),\n",
       " Index(['sleepStartTimestampGMT', 'sleepEndTimestampGMT', 'calendarDate',\n",
       "        'sleepWindowConfirmationType', 'deepSleepSeconds', 'lightSleepSeconds',\n",
       "        'remSleepSeconds', 'awakeSleepSeconds', 'unmeasurableSeconds',\n",
       "        'averageRespiration', 'lowestRespiration', 'highestRespiration',\n",
       "        'retro'],\n",
       "       dtype='object'),\n",
       " Index(['height', 'weight', 'vo2Max'], dtype='object'),\n",
       " Index(['sleepStartTimestampGMT', 'sleepEndTimestampGMT', 'calendarDate',\n",
       "        'sleepWindowConfirmationType', 'deepSleepSeconds', 'lightSleepSeconds',\n",
       "        'remSleepSeconds', 'awakeSleepSeconds', 'unmeasurableSeconds',\n",
       "        'averageRespiration', 'lowestRespiration', 'highestRespiration',\n",
       "        'retro'],\n",
       "       dtype='object'),\n",
       " Index(['sleepStartTimestampGMT', 'sleepEndTimestampGMT', 'calendarDate',\n",
       "        'sleepWindowConfirmationType', 'deepSleepSeconds', 'lightSleepSeconds',\n",
       "        'remSleepSeconds', 'awakeSleepSeconds', 'unmeasurableSeconds',\n",
       "        'averageRespiration', 'lowestRespiration', 'highestRespiration',\n",
       "        'retro'],\n",
       "       dtype='object'),\n",
       " Index(['userProfilePk', 'calendarDate', 'notes', 'reportTimestamp',\n",
       "        'ovulationDay', 'symptoms', 'moods', 'flow', 'sexDrive'],\n",
       "       dtype='object'),\n",
       " Index(['sleepStartTimestampGMT', 'sleepEndTimestampGMT', 'calendarDate',\n",
       "        'sleepWindowConfirmationType', 'deepSleepSeconds', 'lightSleepSeconds',\n",
       "        'remSleepSeconds', 'awakeSleepSeconds', 'unmeasurableSeconds',\n",
       "        'averageRespiration', 'lowestRespiration', 'highestRespiration',\n",
       "        'retro'],\n",
       "       dtype='object'),\n",
       " Index(['sleepStartTimestampGMT', 'sleepEndTimestampGMT', 'calendarDate',\n",
       "        'sleepWindowConfirmationType', 'deepSleepSeconds', 'lightSleepSeconds',\n",
       "        'remSleepSeconds', 'awakeSleepSeconds', 'unmeasurableSeconds',\n",
       "        'spo2SleepSummary', 'averageRespiration', 'lowestRespiration',\n",
       "        'highestRespiration', 'retro'],\n",
       "       dtype='object'),\n",
       " Index(['sleepStartTimestampGMT', 'sleepEndTimestampGMT', 'calendarDate',\n",
       "        'sleepWindowConfirmationType', 'deepSleepSeconds', 'lightSleepSeconds',\n",
       "        'remSleepSeconds', 'awakeSleepSeconds', 'unmeasurableSeconds',\n",
       "        'spo2SleepSummary', 'averageRespiration', 'lowestRespiration',\n",
       "        'highestRespiration', 'retro'],\n",
       "       dtype='object'),\n",
       " Index(['sleepStartTimestampGMT', 'sleepEndTimestampGMT', 'calendarDate',\n",
       "        'sleepWindowConfirmationType', 'deepSleepSeconds', 'lightSleepSeconds',\n",
       "        'remSleepSeconds', 'awakeSleepSeconds', 'unmeasurableSeconds',\n",
       "        'averageRespiration', 'lowestRespiration', 'highestRespiration',\n",
       "        'retro'],\n",
       "       dtype='object'),\n",
       " Index(['sleepStartTimestampGMT', 'sleepEndTimestampGMT', 'calendarDate',\n",
       "        'sleepWindowConfirmationType', 'deepSleepSeconds', 'lightSleepSeconds',\n",
       "        'remSleepSeconds', 'awakeSleepSeconds', 'unmeasurableSeconds',\n",
       "        'spo2SleepSummary', 'averageRespiration', 'lowestRespiration',\n",
       "        'highestRespiration', 'retro'],\n",
       "       dtype='object'),\n",
       " Index(['sleepStartTimestampGMT', 'sleepEndTimestampGMT', 'calendarDate',\n",
       "        'sleepWindowConfirmationType', 'deepSleepSeconds', 'lightSleepSeconds',\n",
       "        'remSleepSeconds', 'awakeSleepSeconds', 'unmeasurableSeconds',\n",
       "        'averageRespiration', 'lowestRespiration', 'highestRespiration',\n",
       "        'retro'],\n",
       "       dtype='object'),\n",
       " Index(['sleepStartTimestampGMT', 'sleepEndTimestampGMT', 'calendarDate',\n",
       "        'sleepWindowConfirmationType', 'deepSleepSeconds', 'lightSleepSeconds',\n",
       "        'remSleepSeconds', 'awakeSleepSeconds', 'unmeasurableSeconds',\n",
       "        'spo2SleepSummary', 'averageRespiration', 'lowestRespiration',\n",
       "        'highestRespiration', 'retro'],\n",
       "       dtype='object'),\n",
       " Index(['sleepStartTimestampGMT', 'sleepEndTimestampGMT', 'calendarDate',\n",
       "        'sleepWindowConfirmationType', 'deepSleepSeconds', 'lightSleepSeconds',\n",
       "        'remSleepSeconds', 'awakeSleepSeconds', 'unmeasurableSeconds',\n",
       "        'spo2SleepSummary', 'averageRespiration', 'lowestRespiration',\n",
       "        'highestRespiration', 'retro'],\n",
       "       dtype='object'),\n",
       " Index(['version', 'metaData', 'vo2MaxRunning', 'userSetNullForHeight',\n",
       "        'userSetNullForWeight', 'userSetNullForActivityClass',\n",
       "        'userSetNullForLactateThresholdSpeed',\n",
       "        'userSetNullForLactateThresholdHR', 'userSetNullForVO2MaxCycling',\n",
       "        'userSetNullForVO2MaxRunning', 'weight', 'height'],\n",
       "       dtype='object'),\n",
       " Index(['userProfilePk', 'startDate', 'predictedPeriodLength',\n",
       "        'actualPeriodLength', 'predictedCycleLength', 'actualCycleLength',\n",
       "        'hormonalContraception', 'fertileWindowStart', 'fertileWindowLength',\n",
       "        'status', 'reportTimestamp', 'hasLoggedOvulationDay',\n",
       "        'initialPredictedPeriodLength', 'initialPredictedCycleLength',\n",
       "        'createTimestamp', 'cycleType', 'applicableMenstrualCycleLength',\n",
       "        'applicablePeriodLength'],\n",
       "       dtype='object'),\n",
       " Index(['sleepStartTimestampGMT', 'sleepEndTimestampGMT', 'calendarDate',\n",
       "        'sleepWindowConfirmationType', 'deepSleepSeconds', 'lightSleepSeconds',\n",
       "        'remSleepSeconds', 'awakeSleepSeconds', 'unmeasurableSeconds',\n",
       "        'spo2SleepSummary', 'averageRespiration', 'lowestRespiration',\n",
       "        'highestRespiration', 'retro'],\n",
       "       dtype='object'),\n",
       " Index(['trainingMethod', 'zone1Floor', 'zone2Floor', 'zone3Floor',\n",
       "        'zone4Floor', 'zone5Floor', 'maxHeartRateUsed',\n",
       "        'restingHrAutoUpdateUsed', 'sport', 'changeState'],\n",
       "       dtype='object'),\n",
       " Index(['userProfilePk', 'userGoalCategory', 'userGoalType', 'startDate',\n",
       "        'goalValue', 'updateDate', 'createDate', 'activityTypePk', 'endDate'],\n",
       "       dtype='object'),\n",
       " Index([], dtype='int64'),\n",
       " Index([], dtype='int64'),\n",
       " Index(['userProfilePk', 'userGoalCategory', 'userGoalType', 'startDate',\n",
       "        'goalValue', 'updateDate', 'createDate', 'activityTypePk'],\n",
       "       dtype='object'),\n",
       " Index(['goalDTOList'], dtype='object'),\n",
       " Index(['userProfilePk', 'userGoalCategory', 'userGoalType', 'startDate',\n",
       "        'endDate', 'goalName', 'goalValue', 'updateDate', 'createDate',\n",
       "        'activityTypePk'],\n",
       "       dtype='object'),\n",
       " Index(['firstName', 'lastName', 'emails', 'phones'], dtype='object'),\n",
       " Index(['id', 'profileId', 'displayName', 'fullName', 'userName',\n",
       "        'profileImageUrlLarge', 'profileImageUrlMedium', 'profileImageUrlSmall',\n",
       "        'location', 'favoriteActivityTypes', 'runningTrainingSpeed',\n",
       "        'cyclingTrainingSpeed', 'cyclingMaxAvgPower', 'swimmingTrainingSpeed',\n",
       "        'profileVisibility', 'activityStartVisibility', 'activityMapVisibility',\n",
       "        'courseVisibility', 'activityHeartRateVisibility',\n",
       "        'activityPowerVisibility', 'badgeVisibility', 'showAge', 'showWeight',\n",
       "        'showHeight', 'showWeightClass', 'showAgeRange', 'showGender',\n",
       "        'showActivityClass', 'showVO2Max', 'showPersonalRecords',\n",
       "        'showLast12Months', 'showLifetimeTotals', 'showUpcomingEvents',\n",
       "        'showRecentFavorites', 'showRecentDevice', 'showRecentGear',\n",
       "        'showBadges', 'nameApproved', 'makeGolfScorecardsPrivate',\n",
       "        'allowGolfLiveScoring', 'allowGolfScoringByConnections', 'userLevel',\n",
       "        'userPoint', 'levelUpdateDate', 'levelIsViewed', 'levelUpdateDateGMT',\n",
       "        'userPro'],\n",
       "       dtype='object'),\n",
       " Index([0], dtype='int64'),\n",
       " Index(['version', 'type', 'data', 'preparedOn'], dtype='object'),\n",
       " Index(['version', 'type', 'data', 'preparedOn'], dtype='object'),\n",
       " Index(['summarizedActivitiesExport'], dtype='object'),\n",
       " Index(['imageId', 'activityId', 'sortOrder', 'url', 'photoDate'], dtype='object'),\n",
       " Index(['summarizedActivitiesExport'], dtype='object'),\n",
       " Index(['workoutList', 'workoutScheduleList'], dtype='object'),\n",
       " Index(['summarizedActivitiesExport'], dtype='object'),\n",
       " Index(['personalRecords'], dtype='object'),\n",
       " Index(['summarizedActivitiesExport'], dtype='object'),\n",
       " Index([], dtype='float64'),\n",
       " Index(['gearDTOS', 'gearActivityDTOs', 'gearActivityTypeDTOS'], dtype='object'),\n",
       " Index(['courseName', 'accessControl', 'elevationGainMeter',\n",
       "        'elevationLossMeter', 'startPoint', 'geoPoints', 'courseType',\n",
       "        'elapsedSeconds', 'speedMeterPerSecond', 'createDate', 'updateDate',\n",
       "        'hasTurnDetectionDisabled'],\n",
       "       dtype='object'),\n",
       " Index(['courseName', 'accessControl', 'elevationGainMeter',\n",
       "        'elevationLossMeter', 'startPoint', 'geoPoints', 'courseType',\n",
       "        'elapsedSeconds', 'speedMeterPerSecond', 'createDate', 'updateDate',\n",
       "        'hasTurnDetectionDisabled'],\n",
       "       dtype='object'),\n",
       " Index(['referenceId', 'referenceType', 'sourceSystem', 'sourceSystemVersion',\n",
       "        'platformId', 'actorId', 'userAgent', 'locale', 'locationCountry',\n",
       "        'eventDateTime', 'eventType', 'eventData', 'testMode', 'receivedDate'],\n",
       "       dtype='object')]"
      ]
     },
     "execution_count": 56,
     "metadata": {},
     "output_type": "execute_result"
    }
   ],
   "source": [
    "import os\n",
    "import pandas as pd\n",
    "from IPython.display import display, Markdown\n",
    "\n",
    "# Define the base directory where your JSON files are stored\n",
    "base_dir = '../data/Garmin_20241403'\n",
    "\n",
    "colected_titles = []\n",
    "colected_dirnames = []\n",
    "colected_col_names = []\n",
    "\n",
    "# Walk through the directory\n",
    "for dirpath, dirnames, filenames in os.walk(base_dir):\n",
    "    #colected_dirnames.append(dirnames)\n",
    "\n",
    "    \n",
    "    for filename in filenames:\n",
    "        #colected_titles.append(filename)\n",
    "        if filename.endswith('.json'):  # Check if the file is a JSON file\n",
    "            file_path = os.path.join(dirpath, filename)  # Get the full path of the file\n",
    "            display(Markdown(f\"### Reading: <small>{file_path[8:]}</small>\"))  # Display the file path in markdown format\n",
    "            try:\n",
    "                data = pd.read_json(file_path)  # Read the JSON file into a DataFrame\n",
    "                colected_col_names.append(data.columns)\n",
    "                #display(data.head())  # Display the first few lines of the DataFrame\n",
    "            except Exception as e:\n",
    "                display(Markdown(f\"**Error reading {file_path}: {e}**\"))  # Display the error in markdown format\n",
    "\n",
    "#colected_titles\n",
    "colected_col_names"
   ]
  },
  {
   "cell_type": "code",
   "execution_count": 47,
   "metadata": {},
   "outputs": [
    {
     "name": "stdout",
     "output_type": "stream",
     "text": [
      "Collecting folium\n",
      "  Downloading folium-0.16.0-py2.py3-none-any.whl.metadata (3.6 kB)\n",
      "Collecting branca>=0.6.0 (from folium)\n",
      "  Downloading branca-0.7.1-py3-none-any.whl.metadata (1.5 kB)\n",
      "Requirement already satisfied: jinja2>=2.9 in /Users/clbo/Tresors/KEA/python/repos/DTU/socialdata2024/.venv/lib/python3.12/site-packages (from folium) (3.1.3)\n",
      "Requirement already satisfied: numpy in /Users/clbo/Tresors/KEA/python/repos/DTU/socialdata2024/.venv/lib/python3.12/site-packages (from folium) (1.26.4)\n",
      "Requirement already satisfied: requests in /Users/clbo/Tresors/KEA/python/repos/DTU/socialdata2024/.venv/lib/python3.12/site-packages (from folium) (2.31.0)\n",
      "Requirement already satisfied: xyzservices in /Users/clbo/Tresors/KEA/python/repos/DTU/socialdata2024/.venv/lib/python3.12/site-packages (from folium) (2023.10.1)\n",
      "Requirement already satisfied: MarkupSafe>=2.0 in /Users/clbo/Tresors/KEA/python/repos/DTU/socialdata2024/.venv/lib/python3.12/site-packages (from jinja2>=2.9->folium) (2.1.5)\n",
      "Requirement already satisfied: charset-normalizer<4,>=2 in /Users/clbo/Tresors/KEA/python/repos/DTU/socialdata2024/.venv/lib/python3.12/site-packages (from requests->folium) (3.3.2)\n",
      "Requirement already satisfied: idna<4,>=2.5 in /Users/clbo/Tresors/KEA/python/repos/DTU/socialdata2024/.venv/lib/python3.12/site-packages (from requests->folium) (3.6)\n",
      "Requirement already satisfied: urllib3<3,>=1.21.1 in /Users/clbo/Tresors/KEA/python/repos/DTU/socialdata2024/.venv/lib/python3.12/site-packages (from requests->folium) (2.2.0)\n",
      "Requirement already satisfied: certifi>=2017.4.17 in /Users/clbo/Tresors/KEA/python/repos/DTU/socialdata2024/.venv/lib/python3.12/site-packages (from requests->folium) (2024.2.2)\n",
      "Downloading folium-0.16.0-py2.py3-none-any.whl (100 kB)\n",
      "\u001b[2K   \u001b[90m━━━━━━━━━━━━━━━━━━━━━━━━━━━━━━━━━━━━━━━━\u001b[0m \u001b[32m100.0/100.0 kB\u001b[0m \u001b[31m6.0 MB/s\u001b[0m eta \u001b[36m0:00:00\u001b[0m\n",
      "\u001b[?25hDownloading branca-0.7.1-py3-none-any.whl (25 kB)\n",
      "Installing collected packages: branca, folium\n",
      "Successfully installed branca-0.7.1 folium-0.16.0\n",
      "Note: you may need to restart the kernel to use updated packages.\n"
     ]
    }
   ],
   "source": [
    "%pip install folium"
   ]
  },
  {
   "cell_type": "code",
   "execution_count": 48,
   "metadata": {},
   "outputs": [
    {
     "ename": "FileNotFoundError",
     "evalue": "[Errno 2] No such file or directory: 'path_to_your_data.csv'",
     "output_type": "error",
     "traceback": [
      "\u001b[0;31m---------------------------------------------------------------------------\u001b[0m",
      "\u001b[0;31mFileNotFoundError\u001b[0m                         Traceback (most recent call last)",
      "Cell \u001b[0;32mIn[48], line 7\u001b[0m\n\u001b[1;32m      3\u001b[0m \u001b[38;5;28;01mimport\u001b[39;00m \u001b[38;5;21;01mpandas\u001b[39;00m \u001b[38;5;28;01mas\u001b[39;00m \u001b[38;5;21;01mpd\u001b[39;00m\n\u001b[1;32m      5\u001b[0m \u001b[38;5;66;03m# Load your data into a pandas DataFrame\u001b[39;00m\n\u001b[1;32m      6\u001b[0m \u001b[38;5;66;03m# data should have at least two columns: 'latitude' and 'longitude'\u001b[39;00m\n\u001b[0;32m----> 7\u001b[0m data \u001b[38;5;241m=\u001b[39m \u001b[43mpd\u001b[49m\u001b[38;5;241;43m.\u001b[39;49m\u001b[43mread_csv\u001b[49m\u001b[43m(\u001b[49m\u001b[38;5;124;43m'\u001b[39;49m\u001b[38;5;124;43mpath_to_your_data.csv\u001b[39;49m\u001b[38;5;124;43m'\u001b[39;49m\u001b[43m)\u001b[49m\n\u001b[1;32m      9\u001b[0m \u001b[38;5;66;03m# Initialize a map centered around the average location\u001b[39;00m\n\u001b[1;32m     10\u001b[0m map_center \u001b[38;5;241m=\u001b[39m [data[\u001b[38;5;124m'\u001b[39m\u001b[38;5;124mlatitude\u001b[39m\u001b[38;5;124m'\u001b[39m]\u001b[38;5;241m.\u001b[39mmean(), data[\u001b[38;5;124m'\u001b[39m\u001b[38;5;124mlongitude\u001b[39m\u001b[38;5;124m'\u001b[39m]\u001b[38;5;241m.\u001b[39mmean()]\n",
      "File \u001b[0;32m~/Tresors/KEA/python/repos/DTU/socialdata2024/.venv/lib/python3.12/site-packages/pandas/io/parsers/readers.py:1024\u001b[0m, in \u001b[0;36mread_csv\u001b[0;34m(filepath_or_buffer, sep, delimiter, header, names, index_col, usecols, dtype, engine, converters, true_values, false_values, skipinitialspace, skiprows, skipfooter, nrows, na_values, keep_default_na, na_filter, verbose, skip_blank_lines, parse_dates, infer_datetime_format, keep_date_col, date_parser, date_format, dayfirst, cache_dates, iterator, chunksize, compression, thousands, decimal, lineterminator, quotechar, quoting, doublequote, escapechar, comment, encoding, encoding_errors, dialect, on_bad_lines, delim_whitespace, low_memory, memory_map, float_precision, storage_options, dtype_backend)\u001b[0m\n\u001b[1;32m   1011\u001b[0m kwds_defaults \u001b[38;5;241m=\u001b[39m _refine_defaults_read(\n\u001b[1;32m   1012\u001b[0m     dialect,\n\u001b[1;32m   1013\u001b[0m     delimiter,\n\u001b[0;32m   (...)\u001b[0m\n\u001b[1;32m   1020\u001b[0m     dtype_backend\u001b[38;5;241m=\u001b[39mdtype_backend,\n\u001b[1;32m   1021\u001b[0m )\n\u001b[1;32m   1022\u001b[0m kwds\u001b[38;5;241m.\u001b[39mupdate(kwds_defaults)\n\u001b[0;32m-> 1024\u001b[0m \u001b[38;5;28;01mreturn\u001b[39;00m \u001b[43m_read\u001b[49m\u001b[43m(\u001b[49m\u001b[43mfilepath_or_buffer\u001b[49m\u001b[43m,\u001b[49m\u001b[43m \u001b[49m\u001b[43mkwds\u001b[49m\u001b[43m)\u001b[49m\n",
      "File \u001b[0;32m~/Tresors/KEA/python/repos/DTU/socialdata2024/.venv/lib/python3.12/site-packages/pandas/io/parsers/readers.py:618\u001b[0m, in \u001b[0;36m_read\u001b[0;34m(filepath_or_buffer, kwds)\u001b[0m\n\u001b[1;32m    615\u001b[0m _validate_names(kwds\u001b[38;5;241m.\u001b[39mget(\u001b[38;5;124m\"\u001b[39m\u001b[38;5;124mnames\u001b[39m\u001b[38;5;124m\"\u001b[39m, \u001b[38;5;28;01mNone\u001b[39;00m))\n\u001b[1;32m    617\u001b[0m \u001b[38;5;66;03m# Create the parser.\u001b[39;00m\n\u001b[0;32m--> 618\u001b[0m parser \u001b[38;5;241m=\u001b[39m \u001b[43mTextFileReader\u001b[49m\u001b[43m(\u001b[49m\u001b[43mfilepath_or_buffer\u001b[49m\u001b[43m,\u001b[49m\u001b[43m \u001b[49m\u001b[38;5;241;43m*\u001b[39;49m\u001b[38;5;241;43m*\u001b[39;49m\u001b[43mkwds\u001b[49m\u001b[43m)\u001b[49m\n\u001b[1;32m    620\u001b[0m \u001b[38;5;28;01mif\u001b[39;00m chunksize \u001b[38;5;129;01mor\u001b[39;00m iterator:\n\u001b[1;32m    621\u001b[0m     \u001b[38;5;28;01mreturn\u001b[39;00m parser\n",
      "File \u001b[0;32m~/Tresors/KEA/python/repos/DTU/socialdata2024/.venv/lib/python3.12/site-packages/pandas/io/parsers/readers.py:1618\u001b[0m, in \u001b[0;36mTextFileReader.__init__\u001b[0;34m(self, f, engine, **kwds)\u001b[0m\n\u001b[1;32m   1615\u001b[0m     \u001b[38;5;28mself\u001b[39m\u001b[38;5;241m.\u001b[39moptions[\u001b[38;5;124m\"\u001b[39m\u001b[38;5;124mhas_index_names\u001b[39m\u001b[38;5;124m\"\u001b[39m] \u001b[38;5;241m=\u001b[39m kwds[\u001b[38;5;124m\"\u001b[39m\u001b[38;5;124mhas_index_names\u001b[39m\u001b[38;5;124m\"\u001b[39m]\n\u001b[1;32m   1617\u001b[0m \u001b[38;5;28mself\u001b[39m\u001b[38;5;241m.\u001b[39mhandles: IOHandles \u001b[38;5;241m|\u001b[39m \u001b[38;5;28;01mNone\u001b[39;00m \u001b[38;5;241m=\u001b[39m \u001b[38;5;28;01mNone\u001b[39;00m\n\u001b[0;32m-> 1618\u001b[0m \u001b[38;5;28mself\u001b[39m\u001b[38;5;241m.\u001b[39m_engine \u001b[38;5;241m=\u001b[39m \u001b[38;5;28;43mself\u001b[39;49m\u001b[38;5;241;43m.\u001b[39;49m\u001b[43m_make_engine\u001b[49m\u001b[43m(\u001b[49m\u001b[43mf\u001b[49m\u001b[43m,\u001b[49m\u001b[43m \u001b[49m\u001b[38;5;28;43mself\u001b[39;49m\u001b[38;5;241;43m.\u001b[39;49m\u001b[43mengine\u001b[49m\u001b[43m)\u001b[49m\n",
      "File \u001b[0;32m~/Tresors/KEA/python/repos/DTU/socialdata2024/.venv/lib/python3.12/site-packages/pandas/io/parsers/readers.py:1878\u001b[0m, in \u001b[0;36mTextFileReader._make_engine\u001b[0;34m(self, f, engine)\u001b[0m\n\u001b[1;32m   1876\u001b[0m     \u001b[38;5;28;01mif\u001b[39;00m \u001b[38;5;124m\"\u001b[39m\u001b[38;5;124mb\u001b[39m\u001b[38;5;124m\"\u001b[39m \u001b[38;5;129;01mnot\u001b[39;00m \u001b[38;5;129;01min\u001b[39;00m mode:\n\u001b[1;32m   1877\u001b[0m         mode \u001b[38;5;241m+\u001b[39m\u001b[38;5;241m=\u001b[39m \u001b[38;5;124m\"\u001b[39m\u001b[38;5;124mb\u001b[39m\u001b[38;5;124m\"\u001b[39m\n\u001b[0;32m-> 1878\u001b[0m \u001b[38;5;28mself\u001b[39m\u001b[38;5;241m.\u001b[39mhandles \u001b[38;5;241m=\u001b[39m \u001b[43mget_handle\u001b[49m\u001b[43m(\u001b[49m\n\u001b[1;32m   1879\u001b[0m \u001b[43m    \u001b[49m\u001b[43mf\u001b[49m\u001b[43m,\u001b[49m\n\u001b[1;32m   1880\u001b[0m \u001b[43m    \u001b[49m\u001b[43mmode\u001b[49m\u001b[43m,\u001b[49m\n\u001b[1;32m   1881\u001b[0m \u001b[43m    \u001b[49m\u001b[43mencoding\u001b[49m\u001b[38;5;241;43m=\u001b[39;49m\u001b[38;5;28;43mself\u001b[39;49m\u001b[38;5;241;43m.\u001b[39;49m\u001b[43moptions\u001b[49m\u001b[38;5;241;43m.\u001b[39;49m\u001b[43mget\u001b[49m\u001b[43m(\u001b[49m\u001b[38;5;124;43m\"\u001b[39;49m\u001b[38;5;124;43mencoding\u001b[39;49m\u001b[38;5;124;43m\"\u001b[39;49m\u001b[43m,\u001b[49m\u001b[43m \u001b[49m\u001b[38;5;28;43;01mNone\u001b[39;49;00m\u001b[43m)\u001b[49m\u001b[43m,\u001b[49m\n\u001b[1;32m   1882\u001b[0m \u001b[43m    \u001b[49m\u001b[43mcompression\u001b[49m\u001b[38;5;241;43m=\u001b[39;49m\u001b[38;5;28;43mself\u001b[39;49m\u001b[38;5;241;43m.\u001b[39;49m\u001b[43moptions\u001b[49m\u001b[38;5;241;43m.\u001b[39;49m\u001b[43mget\u001b[49m\u001b[43m(\u001b[49m\u001b[38;5;124;43m\"\u001b[39;49m\u001b[38;5;124;43mcompression\u001b[39;49m\u001b[38;5;124;43m\"\u001b[39;49m\u001b[43m,\u001b[49m\u001b[43m \u001b[49m\u001b[38;5;28;43;01mNone\u001b[39;49;00m\u001b[43m)\u001b[49m\u001b[43m,\u001b[49m\n\u001b[1;32m   1883\u001b[0m \u001b[43m    \u001b[49m\u001b[43mmemory_map\u001b[49m\u001b[38;5;241;43m=\u001b[39;49m\u001b[38;5;28;43mself\u001b[39;49m\u001b[38;5;241;43m.\u001b[39;49m\u001b[43moptions\u001b[49m\u001b[38;5;241;43m.\u001b[39;49m\u001b[43mget\u001b[49m\u001b[43m(\u001b[49m\u001b[38;5;124;43m\"\u001b[39;49m\u001b[38;5;124;43mmemory_map\u001b[39;49m\u001b[38;5;124;43m\"\u001b[39;49m\u001b[43m,\u001b[49m\u001b[43m \u001b[49m\u001b[38;5;28;43;01mFalse\u001b[39;49;00m\u001b[43m)\u001b[49m\u001b[43m,\u001b[49m\n\u001b[1;32m   1884\u001b[0m \u001b[43m    \u001b[49m\u001b[43mis_text\u001b[49m\u001b[38;5;241;43m=\u001b[39;49m\u001b[43mis_text\u001b[49m\u001b[43m,\u001b[49m\n\u001b[1;32m   1885\u001b[0m \u001b[43m    \u001b[49m\u001b[43merrors\u001b[49m\u001b[38;5;241;43m=\u001b[39;49m\u001b[38;5;28;43mself\u001b[39;49m\u001b[38;5;241;43m.\u001b[39;49m\u001b[43moptions\u001b[49m\u001b[38;5;241;43m.\u001b[39;49m\u001b[43mget\u001b[49m\u001b[43m(\u001b[49m\u001b[38;5;124;43m\"\u001b[39;49m\u001b[38;5;124;43mencoding_errors\u001b[39;49m\u001b[38;5;124;43m\"\u001b[39;49m\u001b[43m,\u001b[49m\u001b[43m \u001b[49m\u001b[38;5;124;43m\"\u001b[39;49m\u001b[38;5;124;43mstrict\u001b[39;49m\u001b[38;5;124;43m\"\u001b[39;49m\u001b[43m)\u001b[49m\u001b[43m,\u001b[49m\n\u001b[1;32m   1886\u001b[0m \u001b[43m    \u001b[49m\u001b[43mstorage_options\u001b[49m\u001b[38;5;241;43m=\u001b[39;49m\u001b[38;5;28;43mself\u001b[39;49m\u001b[38;5;241;43m.\u001b[39;49m\u001b[43moptions\u001b[49m\u001b[38;5;241;43m.\u001b[39;49m\u001b[43mget\u001b[49m\u001b[43m(\u001b[49m\u001b[38;5;124;43m\"\u001b[39;49m\u001b[38;5;124;43mstorage_options\u001b[39;49m\u001b[38;5;124;43m\"\u001b[39;49m\u001b[43m,\u001b[49m\u001b[43m \u001b[49m\u001b[38;5;28;43;01mNone\u001b[39;49;00m\u001b[43m)\u001b[49m\u001b[43m,\u001b[49m\n\u001b[1;32m   1887\u001b[0m \u001b[43m\u001b[49m\u001b[43m)\u001b[49m\n\u001b[1;32m   1888\u001b[0m \u001b[38;5;28;01massert\u001b[39;00m \u001b[38;5;28mself\u001b[39m\u001b[38;5;241m.\u001b[39mhandles \u001b[38;5;129;01mis\u001b[39;00m \u001b[38;5;129;01mnot\u001b[39;00m \u001b[38;5;28;01mNone\u001b[39;00m\n\u001b[1;32m   1889\u001b[0m f \u001b[38;5;241m=\u001b[39m \u001b[38;5;28mself\u001b[39m\u001b[38;5;241m.\u001b[39mhandles\u001b[38;5;241m.\u001b[39mhandle\n",
      "File \u001b[0;32m~/Tresors/KEA/python/repos/DTU/socialdata2024/.venv/lib/python3.12/site-packages/pandas/io/common.py:873\u001b[0m, in \u001b[0;36mget_handle\u001b[0;34m(path_or_buf, mode, encoding, compression, memory_map, is_text, errors, storage_options)\u001b[0m\n\u001b[1;32m    868\u001b[0m \u001b[38;5;28;01melif\u001b[39;00m \u001b[38;5;28misinstance\u001b[39m(handle, \u001b[38;5;28mstr\u001b[39m):\n\u001b[1;32m    869\u001b[0m     \u001b[38;5;66;03m# Check whether the filename is to be opened in binary mode.\u001b[39;00m\n\u001b[1;32m    870\u001b[0m     \u001b[38;5;66;03m# Binary mode does not support 'encoding' and 'newline'.\u001b[39;00m\n\u001b[1;32m    871\u001b[0m     \u001b[38;5;28;01mif\u001b[39;00m ioargs\u001b[38;5;241m.\u001b[39mencoding \u001b[38;5;129;01mand\u001b[39;00m \u001b[38;5;124m\"\u001b[39m\u001b[38;5;124mb\u001b[39m\u001b[38;5;124m\"\u001b[39m \u001b[38;5;129;01mnot\u001b[39;00m \u001b[38;5;129;01min\u001b[39;00m ioargs\u001b[38;5;241m.\u001b[39mmode:\n\u001b[1;32m    872\u001b[0m         \u001b[38;5;66;03m# Encoding\u001b[39;00m\n\u001b[0;32m--> 873\u001b[0m         handle \u001b[38;5;241m=\u001b[39m \u001b[38;5;28;43mopen\u001b[39;49m\u001b[43m(\u001b[49m\n\u001b[1;32m    874\u001b[0m \u001b[43m            \u001b[49m\u001b[43mhandle\u001b[49m\u001b[43m,\u001b[49m\n\u001b[1;32m    875\u001b[0m \u001b[43m            \u001b[49m\u001b[43mioargs\u001b[49m\u001b[38;5;241;43m.\u001b[39;49m\u001b[43mmode\u001b[49m\u001b[43m,\u001b[49m\n\u001b[1;32m    876\u001b[0m \u001b[43m            \u001b[49m\u001b[43mencoding\u001b[49m\u001b[38;5;241;43m=\u001b[39;49m\u001b[43mioargs\u001b[49m\u001b[38;5;241;43m.\u001b[39;49m\u001b[43mencoding\u001b[49m\u001b[43m,\u001b[49m\n\u001b[1;32m    877\u001b[0m \u001b[43m            \u001b[49m\u001b[43merrors\u001b[49m\u001b[38;5;241;43m=\u001b[39;49m\u001b[43merrors\u001b[49m\u001b[43m,\u001b[49m\n\u001b[1;32m    878\u001b[0m \u001b[43m            \u001b[49m\u001b[43mnewline\u001b[49m\u001b[38;5;241;43m=\u001b[39;49m\u001b[38;5;124;43m\"\u001b[39;49m\u001b[38;5;124;43m\"\u001b[39;49m\u001b[43m,\u001b[49m\n\u001b[1;32m    879\u001b[0m \u001b[43m        \u001b[49m\u001b[43m)\u001b[49m\n\u001b[1;32m    880\u001b[0m     \u001b[38;5;28;01melse\u001b[39;00m:\n\u001b[1;32m    881\u001b[0m         \u001b[38;5;66;03m# Binary mode\u001b[39;00m\n\u001b[1;32m    882\u001b[0m         handle \u001b[38;5;241m=\u001b[39m \u001b[38;5;28mopen\u001b[39m(handle, ioargs\u001b[38;5;241m.\u001b[39mmode)\n",
      "\u001b[0;31mFileNotFoundError\u001b[0m: [Errno 2] No such file or directory: 'path_to_your_data.csv'"
     ]
    }
   ],
   "source": [
    "import folium\n",
    "from folium.plugins import HeatMap\n",
    "import pandas as pd\n",
    "\n",
    "# Load your data into a pandas DataFrame\n",
    "# data should have at least two columns: 'latitude' and 'longitude'\n",
    "data = pd.read_json('path_to_your_data.csv')\n",
    "\n",
    "# Initialize a map centered around the average location\n",
    "map_center = [data['latitude'].mean(), data['longitude'].mean()]\n",
    "exercise_map = folium.Map(location=map_center, zoom_start=13)\n",
    "\n",
    "# Create a HeatMap layer and add it to the map\n",
    "heatmap_layer = HeatMap(data[['latitude', 'longitude']], radius=10)  # adjust radius as needed\n",
    "exercise_map.add_child(heatmap_layer)\n",
    "\n",
    "# Save or display the map\n",
    "exercise_map.save('exercise_heatmap.html')  # saves the map to a file\n",
    "exercise_map  # displays the map in the notebook\n"
   ]
  },
  {
   "cell_type": "code",
   "execution_count": null,
   "metadata": {},
   "outputs": [],
   "source": []
  }
 ],
 "metadata": {
  "kernelspec": {
   "display_name": ".venv",
   "language": "python",
   "name": "python3"
  },
  "language_info": {
   "codemirror_mode": {
    "name": "ipython",
    "version": 3
   },
   "file_extension": ".py",
   "mimetype": "text/x-python",
   "name": "python",
   "nbconvert_exporter": "python",
   "pygments_lexer": "ipython3",
   "version": "3.12.2"
  }
 },
 "nbformat": 4,
 "nbformat_minor": 2
}
