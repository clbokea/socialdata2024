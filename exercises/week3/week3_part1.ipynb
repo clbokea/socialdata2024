{
 "cells": [
  {
   "cell_type": "code",
   "execution_count": 2,
   "metadata": {},
   "outputs": [],
   "source": [
    "# imports\n",
    "import numpy as np\n",
    "import pandas as pd\n",
    "import matplotlib.pyplot as plt"
   ]
  },
  {
   "cell_type": "code",
   "execution_count": 3,
   "metadata": {},
   "outputs": [],
   "source": [
    "# configuration\n",
    "plt.rcParams['font.family'] = 'Helvetica'\n",
    "plt.rcParams['font.size'] = 12"
   ]
  },
  {
   "cell_type": "markdown",
   "metadata": {},
   "source": [
    "# Part 1: Fundamentals of data visualization"
   ]
  },
  {
   "cell_type": "markdown",
   "metadata": {},
   "source": [
    "As mentioned earlier, visualization is not the only way to test for correlation.    \n",
    "We can (for example) calculate the Pearson correlation.    \n",
    "* **Explain in your own words how the Pearson correlation works and write down it's mathematical formulation.**    \n",
    "* **Can you think of an example where it fails (and visualization works)?**"
   ]
  },
  {
   "cell_type": "markdown",
   "metadata": {},
   "source": [
    "The Pearson correlation coefficient measures the linear corraltion between to variables X and Y. Given a result from -1 to 1. -1 shows a perfect negative linier correlation, 1 a perfect positive linier correlation and 0 no linier corelation what so ever. \n",
    "\n",
    "The below formular is for Pearson correlation coefficient when applied to a sample.\n",
    "\n",
    "$r_{xy} = \\frac{\\sum_{i=1}^{n} (x_i - \\bar{x})(y_i - \\bar{y})}\n",
    "{\\sqrt{\\sum_{i=1}^{n} (x_i - \\bar{x})^2} \\sqrt{\\sum_{i=1}^{n} (y_i - \\bar{y})^2}}$\n",
    "\n",
    "* $_{n}§ is the sample size\n",
    "* $x_{i}$ and $y_{i}$ the are the individual sample point indexed with $_{i}$ \n",
    "* $\\bar{x}$ and $\\bar{y}$ is the mean of the x and y values\n",
    "\n",
    "Pearson correlation coefficient gives a result between -1 and 1 potetionally showing a correlation between 2 variables. It shows a linier corelation, but if tha data has for instance a exponetial relation it would not show up with the PCC formular, but show in a graphical representation."
   ]
  },
  {
   "cell_type": "markdown",
   "metadata": {},
   "source": [
    "* **What is the difference between a bar-chart and a histogram?**\n",
    "\n",
    "A bar chart shows a specic value x and its corosponding value of y\n",
    "* an example of coffie consumed in diffenrent contries a bar would indicated amount of coffie for a specific contry    \n",
    "\n",
    "A histogram is used for describing a range of values. It’s very similar to the idea of putting data into categories.\n",
    "* In the coffie example it could show how many countries in a \"bin\" that consumes a specic amount.     "
   ]
  },
  {
   "cell_type": "markdown",
   "metadata": {},
   "source": [
    "* **I mention in the video that it's important to choose the right bin-size in histograms. But how do you do that?     \n",
    "Do a Google search to find a criterion you like and explain it.**"
   ]
  },
  {
   "cell_type": "markdown",
   "metadata": {},
   "source": [
    "Step 1: Find the smallest and largest data point. If your smallest and/or largest numbers are not whole numbers, go to Step 2. If they are whole numbers, go to Step 3.\n",
    "\n",
    "Step 2: Lower the minimum a little and raise the maximum a little. For example, 1.2 as a minimum becomes 1, and 99.9 as a maximum becomes 100.\n",
    "\n",
    "Step 3: Decide how many bins you need using your best guess and using the guidelines listed in the intro paragraph above.\n",
    "\n",
    "Step 4: Divide your range (the numbers in your data set) by the bin size you chose in Step 3. For example, if you have numbers that range from 0 to 50, and you chose 5 bins, your bin size is 50/5=10.\n",
    "\n",
    "Step 5: Create the bin boundaries by starting with your smallest number (from Steps 1 and 2) and adding the bin size from Step 4. For example, if your smallest number is 0 and your bin size is 10 you would have bin boundaries of 0, 10, 20…"
   ]
  },
  {
   "cell_type": "markdown",
   "metadata": {},
   "source": []
  }
 ],
 "metadata": {
  "kernelspec": {
   "display_name": ".venv",
   "language": "python",
   "name": "python3"
  },
  "language_info": {
   "codemirror_mode": {
    "name": "ipython",
    "version": 3
   },
   "file_extension": ".py",
   "mimetype": "text/x-python",
   "name": "python",
   "nbconvert_exporter": "python",
   "pygments_lexer": "ipython3",
   "version": "3.12.1"
  }
 },
 "nbformat": 4,
 "nbformat_minor": 2
}
