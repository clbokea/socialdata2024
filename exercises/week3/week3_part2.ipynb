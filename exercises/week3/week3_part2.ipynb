{
 "cells": [
  {
   "cell_type": "markdown",
   "metadata": {},
   "source": [
    "# Part 2: Reading about the theory of visualization"
   ]
  },
  {
   "cell_type": "markdown",
   "metadata": {},
   "source": [
    "> *Excercise*: Questions for DAOST \n",
    "> 1. Explain in your own words the point of the jitter plot.\n",
    "> 1. Explain in your own words the point of figure 2-3. (I'm going to skip saying \"in your own words\" going forward, but I hope you get the point; I expect all answers to be in your own words).\n",
    "> 1. The author of DAOST (Philipp Janert) likes KDEs (and think they're better than histograms). And we don't. Sune didn't give a detailed explanation in the video, but now that works to our advantage. We'll ask you to think about this and thereby create an excellent exercise: When can KDEs be misleading? \n",
    "> 1. Sune discussed some strengths of the CDF - there are also weaknesses. Janert writes \"CDFs have less intuitive appeal than histograms of KDEs\". What does he mean by that?\n",
    "> 1. What is a *Quantile plot*? What is it good for. \n",
    "> 1. How is a *Probablity plot* defined? What is it useful for? Have you ever seen one before?\n",
    "> 1. One of the reasons we like DAOST is that Janert is so suspicious of mean, median, and related summary statistics. Explain why one has to be careful when using those - and why visualization of the full data is always better. \n",
    "> 1. Sune loves box plots (but not enough to own one of [these](https://images.app.goo.gl/rpozyRX3xu5oFobt8) 😂). When are box plots most useful?\n",
    "> 1. The book doesn't mention [violin plots](https://en.wikipedia.org/wiki/Violin_plot). Are those better or worse than box plots? Why?\n",
    "> 1. Remember the box-plot part from [this video from last time](https://www.youtube.com/watch?v=DbJyPELmhJc) (the part that starts at 0:56)? Explain in your own words how this video illustrates potential issues even with box-plots? Do violin-plots help with that issue?"
   ]
  },
  {
   "cell_type": "markdown",
   "metadata": {},
   "source": [
    "1. A jitter plot is a type of a dot plot where the values are randomly moved a bit (jitter) in the vertical of horizontal direction (or both). This is done to make them visible, instead of being placed right on to of each other.\n",
    "2. Figure 2-3 is a histogram that demonstrates the implications of the allignment of the bins to the x acis. The bins are all the same with, 1, and the histogram demostrates the dilema of placing the first bin starting at 1, or with the first bin centered over 1. Both are legal, but have different visual implications. \n",
    "3. KDE provides a continuous and smooth approximation of the underlying data distribution but KDEs can be misleading when data in some areas are sparce or non existing. The smoothnes of the KDE curves might suggest different or be misleading. In cases of small datasets something simular could occour. \n",
    "4. It requires a more insigt and understanding about how it is constructed. You simply need to know what is is before you can read it correctly. In histograms it is more straight forward what the meaning with each bar is. It could also be important that we are more used to histograms, so intuitive we understand them better than the cumulative approach.\n",
    "5. A Quantile plot is a KDE but with its axes turned around. \n",
    "6. A Probablity plot is defined \n",
    "7. \n",
    "8. Box plots\n",
    "9. \n",
    "10. "
   ]
  },
  {
   "cell_type": "markdown",
   "metadata": {},
   "source": []
  }
 ],
 "metadata": {
  "kernelspec": {
   "display_name": ".venv",
   "language": "python",
   "name": "python3"
  },
  "language_info": {
   "codemirror_mode": {
    "name": "ipython",
    "version": 3
   },
   "file_extension": ".py",
   "mimetype": "text/x-python",
   "name": "python",
   "nbconvert_exporter": "python",
   "pygments_lexer": "ipython3",
   "version": "3.12.1"
  }
 },
 "nbformat": 4,
 "nbformat_minor": 2
}
