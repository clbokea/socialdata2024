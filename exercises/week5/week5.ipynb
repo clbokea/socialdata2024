{
 "cells": [
  {
   "cell_type": "markdown",
   "metadata": {},
   "source": [
    "## Part 1: Exploratory data visualzation, two variables "
   ]
  },
  {
   "cell_type": "markdown",
   "metadata": {},
   "source": [
    "> *Exercise:* Questions from DAOST Chapter 3. <font color=gray>Read the text and answer the questions to make sure you get it. No need for LLMs here</font>\n",
    "\n",
    "**Looking at Fig 3-1, Janert writes \"the data itself shows clearly that the amount of random noise in the data is small\". What do you think his argument is?**    \n",
    ">  The visual representation of the data is clearly ordered in humps in decending heights when moving up the x axis.     \n",
    "> It is a pattern very much the opposite of random scattered data all over the place.     \n",
    "\n",
    "**Can you think of a real-world example of a multivariate relationship like the one in Fig 3-3 (lower right panel)?**    \n",
    "> If we have the relation between 3 variables, Temerature, rain and growth of vegitables. Then if it rains it will affect both the temperature, and the vegitable growth.    \n",
    "\n",
    "**What are the two methods Janert metions for smoothing noisy data? Can you think of other ones?**     \n",
    "> First method is **Splines**    \n",
    ">   \n",
    "> Second method is **LOESS**    \n",
    ">   \n",
    "**What are residuals? Why is it a good idea to plot the residuals of your fit?**     \n",
    ">    \n",
    "**Explain in your own words the point of the smooth tube in figure 3-7.**     \n",
    ">     \n",
    "**What the h#ll is banking and what part of our visual system does it use to help us see patterns? What are potential problems with banking?**     \n",
    ">\n",
    "**Summarize the discussion of Graphical Analysis and Presentation Graphics on pp. 68-69 in your own words.**     \n",
    ">   "
   ]
  },
  {
   "cell_type": "markdown",
   "metadata": {},
   "source": [
    "## Part 2: Linear Regression"
   ]
  },
  {
   "cell_type": "markdown",
   "metadata": {},
   "source": []
  }
 ],
 "metadata": {
  "language_info": {
   "name": "python"
  }
 },
 "nbformat": 4,
 "nbformat_minor": 2
}
