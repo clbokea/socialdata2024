{
 "cells": [
  {
   "cell_type": "markdown",
   "metadata": {},
   "source": [
    "# Week 6 - exercises"
   ]
  },
  {
   "cell_type": "markdown",
   "metadata": {},
   "source": [
    "## Part 1: Video Lectures and Reading\n",
    "### Exercises: Explanatory data visualization. <font color=gray>It's OK to use LLMs here if you can</font>.\n",
    "### What are the three key elements to keep in mind when you design an explanatory visualization?\n",
    "1. Start with a question: What is it you want to communicate?\n",
    "2. Allow exploration\n",
    "3. Know your readers (design for yur audience)\n",
    "### In the video I talk about (1) *overview first*,  (2) *zoom and filter*,  (3) *details on demand*. \n",
    "* ##### Go online and find a visualization that follows these principles (don't use one from the video).     \n",
    "https://pudding.cool/2018/02/waveforms/\n",
    "* ##### Explain how your video achieves (1)-(3). It might be useful to use screenshots to illustrate your explanation.\n",
    "The **1) overview first** is achieved through the intro tekst explaining about the main concept: to explore sound waves.     \n",
    "\n",
    "![](sinewave1.png)    \n",
    "\n",
    "The **2) Zoom and Filter** is achieved through that it makes the user able to change the amplitude and frequency of the sine wave getting both a visual and audio demonstration of the effect on the wave.    \n",
    "\n",
    "![](sinewave2.png)    \n",
    "\n",
    "### Explain in your own words: How is explanatory data analysis different from exploratory data analysis?\n",
    "Exploratory Data Analysis is the initial step in data analysis, where you're essentially getting to know the data. You're exploring it without having specific questions in mind, looking for patterns, outliers, or anomalies to understand its structure, components, and relationships.     \n",
    "Explanatory Data Analysis, on the other hand, is more about communicating your findings from the data, often after hypotheses have been tested or models have been built. It's the process of using the data to tell a story, to explain the insights and findings you've discovered during or after the exploratory phase.    "
   ]
  },
  {
   "cell_type": "markdown",
   "metadata": {},
   "source": [
    "## Part 2: Interactive visualizations with Bokeh"
   ]
  },
  {
   "cell_type": "code",
   "execution_count": 1,
   "metadata": {},
   "outputs": [],
   "source": [
    "#%pip install bokeh"
   ]
  },
  {
   "cell_type": "markdown",
   "metadata": {},
   "source": []
  }
 ],
 "metadata": {
  "kernelspec": {
   "display_name": ".venv",
   "language": "python",
   "name": "python3"
  },
  "language_info": {
   "codemirror_mode": {
    "name": "ipython",
    "version": 3
   },
   "file_extension": ".py",
   "mimetype": "text/x-python",
   "name": "python",
   "nbconvert_exporter": "python",
   "pygments_lexer": "ipython3",
   "version": "3.12.1"
  }
 },
 "nbformat": 4,
 "nbformat_minor": 2
}
